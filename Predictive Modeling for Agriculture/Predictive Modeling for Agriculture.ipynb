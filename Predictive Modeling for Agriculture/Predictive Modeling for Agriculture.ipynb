{
 "cells": [
  {
   "cell_type": "markdown",
   "id": "d3d001b0-2e2f-4b58-8442-99520bad831f",
   "metadata": {},
   "source": [
    "# Sowing Success: How Machine Learning Helps Farmers Select the Best Crops\n",
    "\n",
    "![Farmer in a field](farmer_in_a_field.jpg)\n",
    "\n",
    "Measuring essential soil metrics such as nitrogen, phosphorous, potassium levels, and pH value is an important aspect of assessing soil condition. However, it can be an expensive and time-consuming process, which can cause farmers to prioritize which metrics to measure based on their budget constraints.\n",
    "\n",
    "Farmers have various options when it comes to deciding which crop to plant each season. Their primary objective is to maximize the yield of their crops, taking into account different factors. One crucial factor that affects crop growth is the condition of the soil in the field, which can be assessed by measuring basic elements such as nitrogen and potassium levels. Each crop has an ideal soil condition that ensures optimal growth and maximum yield.\n",
    "\n",
    "A farmer reached out to you as a machine learning expert for assistance in selecting the best crop for his field. They've provided you with a dataset called `soil_measures.csv`, which contains:\n",
    "\n",
    "- `\"N\"`: Nitrogen content ratio in the soil\n",
    "- `\"P\"`: Phosphorous content ratio in the soil\n",
    "- `\"K\"`: Potassium content ratio in the soil\n",
    "- `\"pH\"` value of the soil\n",
    "- `\"crop\"`: categorical values that contain various crops (target variable).\n",
    "\n",
    "Each row in this dataset represents various measures of the soil in a particular field. Based on these measurements, the crop specified in the `\"crop\"` column is the optimal choice for that field.  \n",
    "\n",
    "In this project, you will apply machine learning to build a multi-class classification model to predict the type of `\"crop\"`, while using techniques to avoid multicollinearity, which is a concept where two or more features are highly correlated."
   ]
  },
  {
   "cell_type": "code",
   "execution_count": 17,
   "id": "d0eb4f16-5a99-460d-a5ba-706b7ef0bbe7",
   "metadata": {
    "executionCancelledAt": null,
    "executionTime": 52,
    "id": "bA5ajAmk7XH6",
    "lastExecutedAt": 1690309788926,
    "lastScheduledRunId": null,
    "lastSuccessfullyExecutedCode": "# All required libraries are imported here for you.\nimport matplotlib.pyplot as plt\nimport pandas as pd\nfrom sklearn.linear_model import LogisticRegression\nfrom sklearn.model_selection import train_test_split\nimport seaborn as sns\nfrom sklearn.metrics import f1_score\n\n# Load the dataset.\ncrops = pd.read_csv(\"soil_measures.csv\")\n\n# 1.View the first rows of the DataFrame.\ncrops.head()",
    "outputsMetadata": {
     "0": {
      "height": 191,
      "type": "dataFrame"
     }
    }
   },
   "outputs": [
    {
     "data": {
      "text/html": [
       "<div>\n",
       "<style scoped>\n",
       "    .dataframe tbody tr th:only-of-type {\n",
       "        vertical-align: middle;\n",
       "    }\n",
       "\n",
       "    .dataframe tbody tr th {\n",
       "        vertical-align: top;\n",
       "    }\n",
       "\n",
       "    .dataframe thead th {\n",
       "        text-align: right;\n",
       "    }\n",
       "</style>\n",
       "<table border=\"1\" class=\"dataframe\">\n",
       "  <thead>\n",
       "    <tr style=\"text-align: right;\">\n",
       "      <th></th>\n",
       "      <th>N</th>\n",
       "      <th>P</th>\n",
       "      <th>K</th>\n",
       "      <th>ph</th>\n",
       "      <th>crop</th>\n",
       "    </tr>\n",
       "  </thead>\n",
       "  <tbody>\n",
       "    <tr>\n",
       "      <th>0</th>\n",
       "      <td>90</td>\n",
       "      <td>42</td>\n",
       "      <td>43</td>\n",
       "      <td>6.502985</td>\n",
       "      <td>rice</td>\n",
       "    </tr>\n",
       "    <tr>\n",
       "      <th>1</th>\n",
       "      <td>85</td>\n",
       "      <td>58</td>\n",
       "      <td>41</td>\n",
       "      <td>7.038096</td>\n",
       "      <td>rice</td>\n",
       "    </tr>\n",
       "    <tr>\n",
       "      <th>2</th>\n",
       "      <td>60</td>\n",
       "      <td>55</td>\n",
       "      <td>44</td>\n",
       "      <td>7.840207</td>\n",
       "      <td>rice</td>\n",
       "    </tr>\n",
       "    <tr>\n",
       "      <th>3</th>\n",
       "      <td>74</td>\n",
       "      <td>35</td>\n",
       "      <td>40</td>\n",
       "      <td>6.980401</td>\n",
       "      <td>rice</td>\n",
       "    </tr>\n",
       "    <tr>\n",
       "      <th>4</th>\n",
       "      <td>78</td>\n",
       "      <td>42</td>\n",
       "      <td>42</td>\n",
       "      <td>7.628473</td>\n",
       "      <td>rice</td>\n",
       "    </tr>\n",
       "  </tbody>\n",
       "</table>\n",
       "</div>"
      ],
      "text/plain": [
       "    N   P   K        ph  crop\n",
       "0  90  42  43  6.502985  rice\n",
       "1  85  58  41  7.038096  rice\n",
       "2  60  55  44  7.840207  rice\n",
       "3  74  35  40  6.980401  rice\n",
       "4  78  42  42  7.628473  rice"
      ]
     },
     "execution_count": 17,
     "metadata": {},
     "output_type": "execute_result"
    }
   ],
   "source": [
    "# All required libraries are imported here for you.\n",
    "import matplotlib.pyplot as plt\n",
    "import pandas as pd\n",
    "from sklearn.linear_model import LogisticRegression\n",
    "from sklearn.model_selection import train_test_split\n",
    "import seaborn as sns\n",
    "from sklearn.metrics import f1_score\n",
    "import warnings\n",
    "warnings.filterwarnings(\"ignore\")\n",
    "\n",
    "# Load the dataset.\n",
    "crops = pd.read_csv(\"soil_measures.csv\")\n",
    "\n",
    "# 1.View the first rows of the DataFrame.\n",
    "crops.head()"
   ]
  },
  {
   "cell_type": "code",
   "execution_count": 18,
   "id": "36cca9ff-1eac-41ca-a0ea-11ae2e672032",
   "metadata": {
    "executionCancelledAt": null,
    "executionTime": 51,
    "lastExecutedAt": 1690309788977,
    "lastScheduledRunId": null,
    "lastSuccessfullyExecutedCode": "# 1.Summary data of the DataFrame.\ncrops.info()",
    "outputsMetadata": {
     "0": {
      "height": 250,
      "type": "stream"
     }
    }
   },
   "outputs": [
    {
     "name": "stdout",
     "output_type": "stream",
     "text": [
      "<class 'pandas.core.frame.DataFrame'>\n",
      "RangeIndex: 2200 entries, 0 to 2199\n",
      "Data columns (total 5 columns):\n",
      " #   Column  Non-Null Count  Dtype  \n",
      "---  ------  --------------  -----  \n",
      " 0   N       2200 non-null   int64  \n",
      " 1   P       2200 non-null   int64  \n",
      " 2   K       2200 non-null   int64  \n",
      " 3   ph      2200 non-null   float64\n",
      " 4   crop    2200 non-null   object \n",
      "dtypes: float64(1), int64(3), object(1)\n",
      "memory usage: 86.1+ KB\n"
     ]
    }
   ],
   "source": [
    "# 1.Summary data of the DataFrame.\n",
    "crops.info()"
   ]
  },
  {
   "cell_type": "code",
   "execution_count": 19,
   "id": "5f1928d7-f8f2-46b3-8143-9636ee0bfc28",
   "metadata": {
    "executionCancelledAt": null,
    "executionTime": 57,
    "lastExecutedAt": 1690309789035,
    "lastScheduledRunId": null,
    "lastSuccessfullyExecutedCode": "# 1.Checking for missing values.\ncrops.isna().sum()"
   },
   "outputs": [
    {
     "data": {
      "text/plain": [
       "N       0\n",
       "P       0\n",
       "K       0\n",
       "ph      0\n",
       "crop    0\n",
       "dtype: int64"
      ]
     },
     "execution_count": 19,
     "metadata": {},
     "output_type": "execute_result"
    }
   ],
   "source": [
    "# 1.Checking for missing values.\n",
    "crops.isna().sum()"
   ]
  },
  {
   "cell_type": "code",
   "execution_count": 20,
   "id": "439f4ffe-f48c-4d2f-8f3a-2fa661d62098",
   "metadata": {
    "executionCancelledAt": null,
    "executionTime": 51,
    "lastExecutedAt": 1690309789086,
    "lastScheduledRunId": null,
    "lastSuccessfullyExecutedCode": "# 1.Checking for crop types.\ncrops['crop'].nunique()"
   },
   "outputs": [
    {
     "data": {
      "text/plain": [
       "22"
      ]
     },
     "execution_count": 20,
     "metadata": {},
     "output_type": "execute_result"
    }
   ],
   "source": [
    "# 1.Checking for crop types.\n",
    "crops['crop'].nunique()"
   ]
  },
  {
   "cell_type": "code",
   "execution_count": 21,
   "id": "7828b313-3f5b-4288-a883-560c6a297422",
   "metadata": {
    "executionCancelledAt": null,
    "executionTime": 51,
    "lastExecutedAt": 1690309789138,
    "lastScheduledRunId": null,
    "lastSuccessfullyExecutedCode": "# 1.Check how many crops we have, i.e., multi-class target.\ncrops.crop.unique()"
   },
   "outputs": [
    {
     "data": {
      "text/plain": [
       "array(['rice', 'maize', 'chickpea', 'kidneybeans', 'pigeonpeas',\n",
       "       'mothbeans', 'mungbean', 'blackgram', 'lentil', 'pomegranate',\n",
       "       'banana', 'mango', 'grapes', 'watermelon', 'muskmelon', 'apple',\n",
       "       'orange', 'papaya', 'coconut', 'cotton', 'jute', 'coffee'],\n",
       "      dtype=object)"
      ]
     },
     "execution_count": 21,
     "metadata": {},
     "output_type": "execute_result"
    }
   ],
   "source": [
    "# 1.Check how many crops we have, i.e., multi-class target.\n",
    "crops.crop.unique()"
   ]
  },
  {
   "cell_type": "code",
   "execution_count": 22,
   "id": "1057ff57-fcbe-4a85-9154-c1073c075026",
   "metadata": {
    "executionCancelledAt": null,
    "executionTime": 48,
    "lastExecutedAt": 1690309789186,
    "lastScheduledRunId": null,
    "lastSuccessfullyExecutedCode": "# 1.Determining the number of each crop.\ncrops['crop'].value_counts()"
   },
   "outputs": [
    {
     "data": {
      "text/plain": [
       "rice           100\n",
       "maize          100\n",
       "jute           100\n",
       "cotton         100\n",
       "coconut        100\n",
       "papaya         100\n",
       "orange         100\n",
       "apple          100\n",
       "muskmelon      100\n",
       "watermelon     100\n",
       "grapes         100\n",
       "mango          100\n",
       "banana         100\n",
       "pomegranate    100\n",
       "lentil         100\n",
       "blackgram      100\n",
       "mungbean       100\n",
       "mothbeans      100\n",
       "pigeonpeas     100\n",
       "kidneybeans    100\n",
       "chickpea       100\n",
       "coffee         100\n",
       "Name: crop, dtype: int64"
      ]
     },
     "execution_count": 22,
     "metadata": {},
     "output_type": "execute_result"
    }
   ],
   "source": [
    "# 1.Determining the number of each crop.\n",
    "crops['crop'].value_counts()"
   ]
  },
  {
   "cell_type": "code",
   "execution_count": 23,
   "id": "cf0491cb-29b1-4140-ae54-85c27e8e7419",
   "metadata": {
    "executionCancelledAt": null,
    "executionTime": 52,
    "lastExecutedAt": 1690309789238,
    "lastScheduledRunId": null,
    "lastSuccessfullyExecutedCode": "# 2.Features variables.\nX = crops.drop(columns='crop')\nX.shape",
    "outputsMetadata": {
     "0": {
      "height": 191,
      "type": "dataFrame"
     }
    }
   },
   "outputs": [
    {
     "data": {
      "text/plain": [
       "(2200, 4)"
      ]
     },
     "execution_count": 23,
     "metadata": {},
     "output_type": "execute_result"
    }
   ],
   "source": [
    "# 2.Features variables.\n",
    "X = crops.drop(columns='crop')\n",
    "X.shape"
   ]
  },
  {
   "cell_type": "code",
   "execution_count": 24,
   "id": "9e141069-d440-4863-9c77-c02f5c7a1540",
   "metadata": {
    "executionCancelledAt": null,
    "executionTime": 52,
    "lastExecutedAt": 1690309789290,
    "lastScheduledRunId": null,
    "lastSuccessfullyExecutedCode": "# 2.Target variables.\ny = crops['crop']\ny.shape"
   },
   "outputs": [
    {
     "data": {
      "text/plain": [
       "(2200,)"
      ]
     },
     "execution_count": 24,
     "metadata": {},
     "output_type": "execute_result"
    }
   ],
   "source": [
    "# 2.Target variables.\n",
    "y = crops['crop']\n",
    "y.shape"
   ]
  },
  {
   "cell_type": "code",
   "execution_count": 25,
   "id": "243460cc-a14b-4bea-9d46-75fce676ff76",
   "metadata": {
    "executionCancelledAt": null,
    "executionTime": 47,
    "lastExecutedAt": 1690309789337,
    "lastScheduledRunId": null,
    "lastSuccessfullyExecutedCode": "# 2.Split the dataset into 80% train, 20% test.\nX_train, X_test, y_train, y_test = train_test_split(X, y, test_size=0.2, random_state=42)"
   },
   "outputs": [],
   "source": [
    "# 2.Split the dataset into 80% train, 20% test.\n",
    "X_train, X_test, y_train, y_test = train_test_split(X, y, test_size=0.2, random_state=42)"
   ]
  },
  {
   "cell_type": "code",
   "execution_count": 26,
   "id": "68251dbc-1176-4233-99c1-3c8ed932a4e0",
   "metadata": {
    "executionCancelledAt": null,
    "executionTime": null,
    "lastExecutedAt": null,
    "lastScheduledRunId": null,
    "lastSuccessfullyExecutedCode": null,
    "outputsMetadata": {
     "0": {
      "height": 36,
      "type": "stream"
     }
    }
   },
   "outputs": [
    {
     "name": "stdout",
     "output_type": "stream",
     "text": [
      "F1-score for N: 0.10251263642245952\n",
      "F1-score for P: 0.13310868837820025\n",
      "F1-score for K: 0.2085392131428318\n",
      "F1-score for ph: 0.04532731061152114\n"
     ]
    }
   ],
   "source": [
    "# 3.Training a logistic regression model for each feature.\n",
    "for x in [\"N\", \"P\", \"K\", \"ph\"]:\n",
    "    log_reg = LogisticRegression(max_iter=2000,multi_class='multinomial')\n",
    "    log_reg.fit(X_train[[x]], y_train)\n",
    "    y_pred = log_reg.predict(X_test[[x]])\n",
    "    f1 = f1_score(y_test, y_pred, average=\"weighted\")\n",
    "    print(f\"F1-score for {x}: {f1}\")"
   ]
  },
  {
   "cell_type": "code",
   "execution_count": 27,
   "id": "0e3f2be7-84c7-4307-8e41-407758eb50a6",
   "metadata": {
    "executionCancelledAt": null,
    "executionTime": 215,
    "lastExecutedAt": 1690309787605,
    "lastScheduledRunId": null,
    "lastSuccessfullyExecutedCode": "# 4.Calculate the correlation matrix and create a heatmap using seaborn.\nc = crops.corr()\nsns.heatmap(c, annot=True)\nplt.show();"
   },
   "outputs": [
    {
     "data": {
      "image/png": "[encoded data removed]",
      "text/plain": [
       "<Figure size 432x288 with 2 Axes>"
      ]
     },
     "metadata": {
      "needs_background": "light"
     },
     "output_type": "display_data"
    }
   ],
   "source": [
    "# 4.Calculate the correlation matrix and create a heatmap using seaborn.\n",
    "c = crops.corr()\n",
    "sns.heatmap(c, annot=True)\n",
    "plt.show();"
   ]
  },
  {
   "cell_type": "code",
   "execution_count": 28,
   "id": "78df9ee9-603f-4c6d-bb86-ff8fc008271e",
   "metadata": {
    "executionCancelledAt": null,
    "executionTime": 1219,
    "lastExecutedAt": 1690309788824,
    "lastScheduledRunId": null,
    "lastSuccessfullyExecutedCode": "# 5.Select the final features for the model.\nfeatures = crops.drop(columns=['crop', 'P'])\n\n# Split the data with the final features.\nX_train_f, X_test_f, y_train_f, y_test_f = train_test_split(features, y, test_size=0.2, random_state=42)\n\n# Train a new model and evaluate performance\nlog_reg_f = LogisticRegression(max_iter=2000, multi_class='multinomial')\nlog_reg_f.fit(X_train_f, y_train_f)\ny_pred_f = log_reg_f.predict(X_test_f)\nmodel_performance = f1_score(y_test_f, y_pred_f, average=\"weighted\")",
    "outputsMetadata": {
     "0": {
      "height": 36,
      "type": "stream"
     }
    }
   },
   "outputs": [
    {
     "name": "stdout",
     "output_type": "stream",
     "text": [
      "F1-score: 0.5680661637667795\n"
     ]
    }
   ],
   "source": [
    "# 5.Select the final features for the model.\n",
    "features = crops.drop(columns=['crop', 'P'])\n",
    "\n",
    "# Split the data with the final features.\n",
    "X_train_f, X_test_f, y_train_f, y_test_f = train_test_split(features, y, test_size=0.2, random_state=42)\n",
    "\n",
    "# Train a new model and evaluate performance\n",
    "log_reg_f = LogisticRegression(max_iter=2000, multi_class='multinomial')\n",
    "log_reg_f.fit(X_train_f, y_train_f)\n",
    "y_pred_f = log_reg_f.predict(X_test_f)\n",
    "model_performance = f1_score(y_test_f, y_pred_f, average=\"weighted\")\n",
    "print(f\"F1-score: {model_performance}\")"
   ]
  }
 ],
 "metadata": {
  "colab": {
   "name": "Welcome to DataCamp Workspaces.ipynb",
   "provenance": []
  },
  "kernelspec": {
   "display_name": "Python 3",
   "language": "python",
   "name": "python3"
  },
  "language_info": {
   "codemirror_mode": {
    "name": "ipython",
    "version": 3
   },
   "file_extension": ".py",
   "mimetype": "text/x-python",
   "name": "python",
   "nbconvert_exporter": "python",
   "pygments_lexer": "ipython3",
   "version": "3.8.8"
  }
 },
 "nbformat": 4,
 "nbformat_minor": 5
}
