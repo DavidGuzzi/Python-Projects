{
 "cells": [
  {
   "cell_type": "code",
   "execution_count": 2,
   "id": "8f83a120",
   "metadata": {},
   "outputs": [],
   "source": [
    "import pandas as pd\n",
    "import numpy as np\n",
    "from matplotlib import pyplot as plt\n",
    "import seaborn as sns"
   ]
  },
  {
   "cell_type": "code",
   "execution_count": 2,
   "id": "229f1321",
   "metadata": {},
   "outputs": [
    {
     "data": {
      "text/html": [
       "<div>\n",
       "<style scoped>\n",
       "    .dataframe tbody tr th:only-of-type {\n",
       "        vertical-align: middle;\n",
       "    }\n",
       "\n",
       "    .dataframe tbody tr th {\n",
       "        vertical-align: top;\n",
       "    }\n",
       "\n",
       "    .dataframe thead th {\n",
       "        text-align: right;\n",
       "    }\n",
       "</style>\n",
       "<table border=\"1\" class=\"dataframe\">\n",
       "  <thead>\n",
       "    <tr style=\"text-align: right;\">\n",
       "      <th></th>\n",
       "      <th>fullVisitorID</th>\n",
       "      <th>visitNumber</th>\n",
       "      <th>date</th>\n",
       "      <th>bounces</th>\n",
       "      <th>hits</th>\n",
       "      <th>pageviews</th>\n",
       "      <th>timeOnSite</th>\n",
       "      <th>transactionRevenue</th>\n",
       "      <th>transactions</th>\n",
       "      <th>source</th>\n",
       "      <th>channelGrouping</th>\n",
       "      <th>browser</th>\n",
       "      <th>deviceCategory</th>\n",
       "      <th>country</th>\n",
       "      <th>city</th>\n",
       "    </tr>\n",
       "  </thead>\n",
       "  <tbody>\n",
       "    <tr>\n",
       "      <th>0</th>\n",
       "      <td>8533875475515924645</td>\n",
       "      <td>1</td>\n",
       "      <td>20170205</td>\n",
       "      <td>1.0</td>\n",
       "      <td>1</td>\n",
       "      <td>1.0</td>\n",
       "      <td>NaN</td>\n",
       "      <td>NaN</td>\n",
       "      <td>NaN</td>\n",
       "      <td>(direct)</td>\n",
       "      <td>Organic Search</td>\n",
       "      <td>Chrome</td>\n",
       "      <td>desktop</td>\n",
       "      <td>Australia</td>\n",
       "      <td>Sydney</td>\n",
       "    </tr>\n",
       "    <tr>\n",
       "      <th>1</th>\n",
       "      <td>4874599869430831185</td>\n",
       "      <td>2</td>\n",
       "      <td>20170205</td>\n",
       "      <td>1.0</td>\n",
       "      <td>1</td>\n",
       "      <td>1.0</td>\n",
       "      <td>NaN</td>\n",
       "      <td>NaN</td>\n",
       "      <td>NaN</td>\n",
       "      <td>(direct)</td>\n",
       "      <td>Organic Search</td>\n",
       "      <td>Chrome</td>\n",
       "      <td>mobile</td>\n",
       "      <td>Turkey</td>\n",
       "      <td>Istanbul</td>\n",
       "    </tr>\n",
       "    <tr>\n",
       "      <th>2</th>\n",
       "      <td>0361954421372951638</td>\n",
       "      <td>1</td>\n",
       "      <td>20170205</td>\n",
       "      <td>1.0</td>\n",
       "      <td>1</td>\n",
       "      <td>1.0</td>\n",
       "      <td>NaN</td>\n",
       "      <td>NaN</td>\n",
       "      <td>NaN</td>\n",
       "      <td>(direct)</td>\n",
       "      <td>Organic Search</td>\n",
       "      <td>Chrome</td>\n",
       "      <td>desktop</td>\n",
       "      <td>Russia</td>\n",
       "      <td>Moscow</td>\n",
       "    </tr>\n",
       "    <tr>\n",
       "      <th>3</th>\n",
       "      <td>8751850432978942600</td>\n",
       "      <td>2</td>\n",
       "      <td>20170205</td>\n",
       "      <td>1.0</td>\n",
       "      <td>1</td>\n",
       "      <td>1.0</td>\n",
       "      <td>NaN</td>\n",
       "      <td>NaN</td>\n",
       "      <td>NaN</td>\n",
       "      <td>bing</td>\n",
       "      <td>Organic Search</td>\n",
       "      <td>Edge</td>\n",
       "      <td>desktop</td>\n",
       "      <td>United States</td>\n",
       "      <td>not available in demo dataset</td>\n",
       "    </tr>\n",
       "    <tr>\n",
       "      <th>4</th>\n",
       "      <td>2451058030378352110</td>\n",
       "      <td>1</td>\n",
       "      <td>20170205</td>\n",
       "      <td>1.0</td>\n",
       "      <td>1</td>\n",
       "      <td>1.0</td>\n",
       "      <td>NaN</td>\n",
       "      <td>NaN</td>\n",
       "      <td>NaN</td>\n",
       "      <td>(direct)</td>\n",
       "      <td>Organic Search</td>\n",
       "      <td>Chrome</td>\n",
       "      <td>desktop</td>\n",
       "      <td>Indonesia</td>\n",
       "      <td>not available in demo dataset</td>\n",
       "    </tr>\n",
       "  </tbody>\n",
       "</table>\n",
       "</div>"
      ],
      "text/plain": [
       "         fullVisitorID  visitNumber      date  bounces  hits  pageviews  \\\n",
       "0  8533875475515924645            1  20170205      1.0     1        1.0   \n",
       "1  4874599869430831185            2  20170205      1.0     1        1.0   \n",
       "2  0361954421372951638            1  20170205      1.0     1        1.0   \n",
       "3  8751850432978942600            2  20170205      1.0     1        1.0   \n",
       "4  2451058030378352110            1  20170205      1.0     1        1.0   \n",
       "\n",
       "   timeOnSite  transactionRevenue  transactions    source channelGrouping  \\\n",
       "0         NaN                 NaN           NaN  (direct)  Organic Search   \n",
       "1         NaN                 NaN           NaN  (direct)  Organic Search   \n",
       "2         NaN                 NaN           NaN  (direct)  Organic Search   \n",
       "3         NaN                 NaN           NaN      bing  Organic Search   \n",
       "4         NaN                 NaN           NaN  (direct)  Organic Search   \n",
       "\n",
       "  browser deviceCategory        country                           city  \n",
       "0  Chrome        desktop      Australia                         Sydney  \n",
       "1  Chrome         mobile         Turkey                       Istanbul  \n",
       "2  Chrome        desktop         Russia                         Moscow  \n",
       "3    Edge        desktop  United States  not available in demo dataset  \n",
       "4  Chrome        desktop      Indonesia  not available in demo dataset  "
      ]
     },
     "execution_count": 2,
     "metadata": {},
     "output_type": "execute_result"
    }
   ],
   "source": [
    "path = r\"C:\\Users\\HP\\Downloads\\data.csv\"\n",
    "df = pd.read_csv(path, dtype={0:'str'})\n",
    "df.head()"
   ]
  },
  {
   "cell_type": "code",
   "execution_count": 3,
   "id": "c4482e3e",
   "metadata": {},
   "outputs": [
    {
     "name": "stdout",
     "output_type": "stream",
     "text": [
      "<class 'pandas.core.frame.DataFrame'>\n",
      "RangeIndex: 392892 entries, 0 to 392891\n",
      "Data columns (total 15 columns):\n",
      " #   Column              Non-Null Count   Dtype  \n",
      "---  ------              --------------   -----  \n",
      " 0   fullVisitorID       392892 non-null  object \n",
      " 1   visitNumber         392892 non-null  int64  \n",
      " 2   date                392892 non-null  int64  \n",
      " 3   bounces             195964 non-null  float64\n",
      " 4   hits                392892 non-null  int64  \n",
      " 5   pageviews           392856 non-null  float64\n",
      " 6   timeOnSite          196399 non-null  float64\n",
      " 7   transactionRevenue  5277 non-null    float64\n",
      " 8   transactions        5277 non-null    float64\n",
      " 9   source              392892 non-null  object \n",
      " 10  channelGrouping     392892 non-null  object \n",
      " 11  browser             392892 non-null  object \n",
      " 12  deviceCategory      392892 non-null  object \n",
      " 13  country             392892 non-null  object \n",
      " 14  city                392892 non-null  object \n",
      "dtypes: float64(5), int64(3), object(7)\n",
      "memory usage: 45.0+ MB\n"
     ]
    }
   ],
   "source": [
    "df.info()"
   ]
  },
  {
   "cell_type": "code",
   "execution_count": 4,
   "id": "3e41fd4a",
   "metadata": {},
   "outputs": [
    {
     "data": {
      "text/html": [
       "<div>\n",
       "<style scoped>\n",
       "    .dataframe tbody tr th:only-of-type {\n",
       "        vertical-align: middle;\n",
       "    }\n",
       "\n",
       "    .dataframe tbody tr th {\n",
       "        vertical-align: top;\n",
       "    }\n",
       "\n",
       "    .dataframe thead th {\n",
       "        text-align: right;\n",
       "    }\n",
       "</style>\n",
       "<table border=\"1\" class=\"dataframe\">\n",
       "  <thead>\n",
       "    <tr style=\"text-align: right;\">\n",
       "      <th></th>\n",
       "      <th>fullVisitorID</th>\n",
       "      <th>visitNumber</th>\n",
       "      <th>date</th>\n",
       "      <th>bounces</th>\n",
       "      <th>hits</th>\n",
       "      <th>pageviews</th>\n",
       "      <th>timeOnSite</th>\n",
       "      <th>transactionRevenue</th>\n",
       "      <th>transactions</th>\n",
       "      <th>source</th>\n",
       "      <th>channelGrouping</th>\n",
       "      <th>browser</th>\n",
       "      <th>deviceCategory</th>\n",
       "      <th>country</th>\n",
       "      <th>city</th>\n",
       "    </tr>\n",
       "  </thead>\n",
       "  <tbody>\n",
       "  </tbody>\n",
       "</table>\n",
       "</div>"
      ],
      "text/plain": [
       "Empty DataFrame\n",
       "Columns: [fullVisitorID, visitNumber, date, bounces, hits, pageviews, timeOnSite, transactionRevenue, transactions, source, channelGrouping, browser, deviceCategory, country, city]\n",
       "Index: []"
      ]
     },
     "execution_count": 4,
     "metadata": {},
     "output_type": "execute_result"
    }
   ],
   "source": [
    "df[df.duplicated()]"
   ]
  },
  {
   "cell_type": "code",
   "execution_count": 5,
   "id": "18c94a36",
   "metadata": {},
   "outputs": [],
   "source": [
    "# Se ajuta forma de fechas.\n",
    "df['date'] = pd.to_datetime(df['date'], format='%Y%m%d')"
   ]
  },
  {
   "cell_type": "code",
   "execution_count": 6,
   "id": "069616ec",
   "metadata": {},
   "outputs": [
    {
     "name": "stdout",
     "output_type": "stream",
     "text": [
      "Tenemos información desde 2017-01-01 00:00:00 hasta 2017-06-30 00:00:00.\n"
     ]
    }
   ],
   "source": [
    "# Se determina rango de tiempo contemplado.\n",
    "date = df['date']\n",
    "print(f\"Tenemos información desde {date.min()} hasta {date.max()}.\")"
   ]
  },
  {
   "cell_type": "code",
   "execution_count": 7,
   "id": "4bfd86c2",
   "metadata": {},
   "outputs": [
    {
     "data": {
      "text/plain": [
       "fullVisitorID\n",
       "1957458976293878100    135\n",
       "7634897085866546110    116\n",
       "3148617623907142276    112\n",
       "3525537916960843419    111\n",
       "6018775317735347795    102\n",
       "                      ... \n",
       "984901111924029842       1\n",
       "1301304072885324590      1\n",
       "9562006476713181017      1\n",
       "4910507032070150816      1\n",
       "0498654448376969495      1\n",
       "Name: count, Length: 308130, dtype: int64"
      ]
     },
     "execution_count": 7,
     "metadata": {},
     "output_type": "execute_result"
    }
   ],
   "source": [
    "# ¿Cuántas visitas por visitor hay? \n",
    "df['fullVisitorID'].value_counts()"
   ]
  },
  {
   "cell_type": "code",
   "execution_count": 8,
   "id": "6584cbb5",
   "metadata": {},
   "outputs": [],
   "source": [
    "# Se observa que los visitors ya tenían datos antes."
   ]
  },
  {
   "cell_type": "code",
   "execution_count": 9,
   "id": "d729c630",
   "metadata": {},
   "outputs": [
    {
     "data": {
      "text/plain": [
       "np.int64(176)"
      ]
     },
     "execution_count": 9,
     "metadata": {},
     "output_type": "execute_result"
    }
   ],
   "source": [
    "df[df['fullVisitorID']=='1957458976293878100']['visitNumber'].min()"
   ]
  },
  {
   "cell_type": "code",
   "execution_count": 10,
   "id": "02daea3f",
   "metadata": {},
   "outputs": [
    {
     "data": {
      "text/plain": [
       "np.int64(315)"
      ]
     },
     "execution_count": 10,
     "metadata": {},
     "output_type": "execute_result"
    }
   ],
   "source": [
    "df[df['fullVisitorID']=='1957458976293878100']['visitNumber'].max()"
   ]
  },
  {
   "cell_type": "code",
   "execution_count": 11,
   "id": "35edcbee",
   "metadata": {},
   "outputs": [
    {
     "data": {
      "text/plain": [
       "139"
      ]
     },
     "execution_count": 11,
     "metadata": {},
     "output_type": "execute_result"
    }
   ],
   "source": [
    "315 - 176"
   ]
  },
  {
   "cell_type": "code",
   "execution_count": 12,
   "id": "02c3b57a",
   "metadata": {},
   "outputs": [],
   "source": [
    "# Deberían haber 139 pero hay 135 registros para ese visitor. ¿A qué se debe la pérdida de registros de visitas?"
   ]
  },
  {
   "cell_type": "code",
   "execution_count": 13,
   "id": "29ff8c72",
   "metadata": {},
   "outputs": [
    {
     "name": "stdout",
     "output_type": "stream",
     "text": [
      "251\n",
      "311\n",
      "315\n"
     ]
    }
   ],
   "source": [
    "ver = sorted(df[df['fullVisitorID']=='1957458976293878100']['visitNumber'].to_list())\n",
    "\n",
    "for i in range(len(ver)-1):\n",
    "    if ver[i] + 1 != ver[i+1]:\n",
    "        print(ver[i+1])"
   ]
  },
  {
   "cell_type": "code",
   "execution_count": 14,
   "id": "58ffb0f6",
   "metadata": {},
   "outputs": [
    {
     "data": {
      "text/plain": [
       "fullVisitorID        visitNumber\n",
       "1957458976293878100  176            1\n",
       "                     177            1\n",
       "                     178            1\n",
       "                     179            1\n",
       "                     180            1\n",
       "                                   ..\n",
       "                     308            1\n",
       "                     309            1\n",
       "                     311            1\n",
       "                     312            1\n",
       "                     315            1\n",
       "Length: 135, dtype: int64"
      ]
     },
     "execution_count": 14,
     "metadata": {},
     "output_type": "execute_result"
    }
   ],
   "source": [
    "df[df['fullVisitorID']=='1957458976293878100'].groupby(['fullVisitorID', 'visitNumber']).size().sort_values(ascending=False)"
   ]
  },
  {
   "cell_type": "code",
   "execution_count": 15,
   "id": "1c429c7c",
   "metadata": {},
   "outputs": [
    {
     "data": {
      "text/plain": [
       "298788"
      ]
     },
     "execution_count": 15,
     "metadata": {},
     "output_type": "execute_result"
    }
   ],
   "source": [
    "len(df[df['visitNumber']==1])"
   ]
  },
  {
   "cell_type": "code",
   "execution_count": 16,
   "id": "a07a5e49",
   "metadata": {},
   "outputs": [
    {
     "name": "stdout",
     "output_type": "stream",
     "text": [
      "<class 'pandas.core.frame.DataFrame'>\n",
      "RangeIndex: 392892 entries, 0 to 392891\n",
      "Data columns (total 15 columns):\n",
      " #   Column              Non-Null Count   Dtype         \n",
      "---  ------              --------------   -----         \n",
      " 0   fullVisitorID       392892 non-null  object        \n",
      " 1   visitNumber         392892 non-null  int64         \n",
      " 2   date                392892 non-null  datetime64[ns]\n",
      " 3   bounces             392892 non-null  int64         \n",
      " 4   hits                392892 non-null  int64         \n",
      " 5   pageviews           392856 non-null  float64       \n",
      " 6   timeOnSite          196399 non-null  float64       \n",
      " 7   transactionRevenue  5277 non-null    float64       \n",
      " 8   transactions        5277 non-null    float64       \n",
      " 9   source              392892 non-null  object        \n",
      " 10  channelGrouping     392892 non-null  object        \n",
      " 11  browser             392892 non-null  object        \n",
      " 12  deviceCategory      392892 non-null  object        \n",
      " 13  country             392892 non-null  object        \n",
      " 14  city                392892 non-null  object        \n",
      "dtypes: datetime64[ns](1), float64(4), int64(3), object(7)\n",
      "memory usage: 45.0+ MB\n"
     ]
    }
   ],
   "source": [
    "df['bounces'] = df['bounces'].fillna(0).astype(int)\n",
    "\n",
    "\n",
    "#df.fillna({'bounces': 0}, inplace=True)\n",
    "#df = df.astype({'bounces': int})\n",
    "\n",
    "df.info()"
   ]
  },
  {
   "cell_type": "code",
   "execution_count": 17,
   "id": "d5b55ba7",
   "metadata": {},
   "outputs": [
    {
     "data": {
      "text/plain": [
       "array([1, 0])"
      ]
     },
     "execution_count": 17,
     "metadata": {},
     "output_type": "execute_result"
    }
   ],
   "source": [
    "df['bounces'].unique()"
   ]
  },
  {
   "cell_type": "code",
   "execution_count": 18,
   "id": "a1706880",
   "metadata": {},
   "outputs": [
    {
     "data": {
      "text/plain": [
       "array([  1,   2,   3,   4,   5,   6,   7,   8,   9,  10,  11,  12,  13,\n",
       "        14,  15,  16,  17,  18,  19,  20,  21,  22,  23,  24,  26,  28,\n",
       "        29,  30,  31,  32,  33,  34,  36,  37,  38,  39,  40,  42,  44,\n",
       "        49,  50,  53,  58,  61,  77,  80,  25,  27,  35,  47,  51,  52,\n",
       "        55,  59,  63,  66,  70,  72,  89,  43,  45,  90,  64,  65,  46,\n",
       "        56,  69,  87,  83,  48,  60,  62,  76,  86,  54,  57,  73,  74,\n",
       "        93, 122,  67,  85, 144, 238, 445, 500,  41,  81,  91, 101, 114,\n",
       "        79,  96, 107, 163,  94,  98, 103,  78,  68,  71, 100, 152, 174,\n",
       "        84, 124,  88, 172, 168,  99, 116,  75,  82,  92, 156, 161,  97,\n",
       "       130, 188, 237, 112, 142, 110, 106, 109, 117, 183, 227, 165, 176,\n",
       "        95, 113, 145, 137, 102, 105, 108, 139, 132, 140, 143, 126, 278,\n",
       "       162, 115, 201, 386, 129, 146, 209, 154, 128, 118, 125, 167, 120,\n",
       "       135, 196, 158, 104, 229, 127, 138, 131, 178, 119, 303, 121, 215,\n",
       "       353, 123, 483, 134, 175, 217, 111, 147, 202, 220, 150, 191, 153,\n",
       "       257, 182, 141, 133, 308, 226, 185, 164, 302, 216, 151, 189, 206,\n",
       "       199, 179, 205])"
      ]
     },
     "execution_count": 18,
     "metadata": {},
     "output_type": "execute_result"
    }
   ],
   "source": [
    "df['hits'].unique()"
   ]
  },
  {
   "cell_type": "code",
   "execution_count": 19,
   "id": "b50fc875",
   "metadata": {},
   "outputs": [
    {
     "data": {
      "text/plain": [
       "array([  1,   2,   3,   4,   5,   6,   7,   8,   9,  10,  11,  12,  13,\n",
       "        14,  15,  16,  17,  18,  19,  22,  23,  20,  21,  25,  24,  26,\n",
       "        27,  28,  29,  36,  30,  32,  38,  35,  42,  44,  34,  45,  63,\n",
       "        59,  33,  31,  40,  47,  46,  61,  39,  65,  43,  57,  55,  37,\n",
       "        49,  72,   0,  41,  48,  52,  50,  67,  93,  53,  60, 101, 182,\n",
       "       358, 466,  58,  54,  73,  70,  83,  69,  75,  51,  56,  74, 112,\n",
       "       132,  76,  94, 129, 111,  62,  78,  68,  71, 102,  80,  66,  64,\n",
       "        90, 116, 169,  81,  77, 100,  88,  97, 135, 114,  89, 400,  85,\n",
       "        98,  99, 215, 154, 123, 195, 343, 118,  92, 151, 201,  82,  86,\n",
       "        87, 104, 105, 110, 324,  79, 117, 146, 128, 165, 109, 197, 179,\n",
       "       121, 223,  84, 108, 340, 175, 189,  91, 202, 156, 120, 167,  95,\n",
       "       127,  96, 183, 107, 139, 113, 131, 133, 103, 210, 176, 138, 136])"
      ]
     },
     "execution_count": 19,
     "metadata": {},
     "output_type": "execute_result"
    }
   ],
   "source": [
    "df['pageviews'] = df['pageviews'].fillna(0).astype(int)\n",
    "df['pageviews'].unique()"
   ]
  },
  {
   "cell_type": "code",
   "execution_count": 20,
   "id": "e2b5b96c",
   "metadata": {},
   "outputs": [
    {
     "name": "stdout",
     "output_type": "stream",
     "text": [
      "<class 'pandas.core.frame.DataFrame'>\n",
      "RangeIndex: 392892 entries, 0 to 392891\n",
      "Data columns (total 15 columns):\n",
      " #   Column              Non-Null Count   Dtype         \n",
      "---  ------              --------------   -----         \n",
      " 0   fullVisitorID       392892 non-null  object        \n",
      " 1   visitNumber         392892 non-null  int64         \n",
      " 2   date                392892 non-null  datetime64[ns]\n",
      " 3   bounces             392892 non-null  int64         \n",
      " 4   hits                392892 non-null  int64         \n",
      " 5   pageviews           392892 non-null  int64         \n",
      " 6   timeOnSite          196399 non-null  float64       \n",
      " 7   transactionRevenue  5277 non-null    float64       \n",
      " 8   transactions        5277 non-null    float64       \n",
      " 9   source              392892 non-null  object        \n",
      " 10  channelGrouping     392892 non-null  object        \n",
      " 11  browser             392892 non-null  object        \n",
      " 12  deviceCategory      392892 non-null  object        \n",
      " 13  country             392892 non-null  object        \n",
      " 14  city                392892 non-null  object        \n",
      "dtypes: datetime64[ns](1), float64(3), int64(4), object(7)\n",
      "memory usage: 45.0+ MB\n"
     ]
    }
   ],
   "source": [
    "df.info()"
   ]
  },
  {
   "cell_type": "code",
   "execution_count": 21,
   "id": "b58066cc",
   "metadata": {},
   "outputs": [
    {
     "data": {
      "text/plain": [
       "array([    0,    32,    18, ...,  2524, 12136,  4195], shape=(3500,))"
      ]
     },
     "execution_count": 21,
     "metadata": {},
     "output_type": "execute_result"
    }
   ],
   "source": [
    "df['timeOnSite'] = df['timeOnSite'].fillna(0).astype(int)\n",
    "df['timeOnSite'].unique()"
   ]
  },
  {
   "cell_type": "code",
   "execution_count": 22,
   "id": "2f9f2113",
   "metadata": {},
   "outputs": [
    {
     "data": {
      "text/plain": [
       "array([0.        , 0.00888889, 0.005     , ..., 0.70111111, 3.37111111,\n",
       "       1.16527778], shape=(3500,))"
      ]
     },
     "execution_count": 22,
     "metadata": {},
     "output_type": "execute_result"
    }
   ],
   "source": [
    "df['timeOnSite_h'] = (df['timeOnSite'] / 3600).astype(float)\n",
    "df['timeOnSite_h'].unique()"
   ]
  },
  {
   "cell_type": "code",
   "execution_count": 23,
   "id": "f2589ec2",
   "metadata": {},
   "outputs": [
    {
     "data": {
      "text/plain": [
       "np.int64(12136)"
      ]
     },
     "execution_count": 23,
     "metadata": {},
     "output_type": "execute_result"
    }
   ],
   "source": [
    "df['timeOnSite'].max()"
   ]
  },
  {
   "cell_type": "code",
   "execution_count": 24,
   "id": "b1bdfd16",
   "metadata": {},
   "outputs": [
    {
     "data": {
      "text/plain": [
       "np.float64(3.371111111111111)"
      ]
     },
     "execution_count": 24,
     "metadata": {},
     "output_type": "execute_result"
    }
   ],
   "source": [
    "df['timeOnSite_h'].max()"
   ]
  },
  {
   "cell_type": "code",
   "execution_count": 25,
   "id": "5078b1b7",
   "metadata": {},
   "outputs": [
    {
     "data": {
      "text/plain": [
       "<Axes: >"
      ]
     },
     "execution_count": 25,
     "metadata": {},
     "output_type": "execute_result"
    },
    {
     "data": {
      "image/png": "[encoded data removed]",
      "text/plain": [
       "<Figure size 640x480 with 1 Axes>"
      ]
     },
     "metadata": {},
     "output_type": "display_data"
    }
   ],
   "source": [
    "df['timeOnSite_h'].hist(bins=25)"
   ]
  },
  {
   "cell_type": "code",
   "execution_count": 26,
   "id": "276914e3",
   "metadata": {},
   "outputs": [],
   "source": [
    "df['transactionRevenue'] = df['transactionRevenue'].fillna(0).astype(float)\n",
    "df['transactions'] = df['transactions'].fillna(0).astype(float)"
   ]
  },
  {
   "cell_type": "code",
   "execution_count": 27,
   "id": "31cf5c2f",
   "metadata": {},
   "outputs": [
    {
     "data": {
      "text/plain": [
       "array(['(direct)', 'bing', 'siliconvalley.about.com', 'baidu',\n",
       "       'int.search.tb.ask.com', 'qiita.com', 'cv.il3.ub.edu', 'Partners',\n",
       "       'analytics.google.com', 'dfa', 'google.co.jp', 'sashihara.jp',\n",
       "       'mail.google.com', 'online-metrics.com', 'optimize.google.com',\n",
       "       'search.mysearch.com', 'search.xfinity.com',\n",
       "       'productforums.google.com', 'sites.google.com', 'google.fr',\n",
       "       'google.com', 'blog.golang.org', 'images.google.de',\n",
       "       'wheretoget.it', 'yahoo', 'duckduckgo.com', 'youtube.com',\n",
       "       'plus.google.com', 'quora.com', 'reddit.com', 'l.facebook.com',\n",
       "       'facebook.com', 'm.facebook.com', 'search.tb.ask.com',\n",
       "       'm.youtube.com', 'outlook.live.com', 't.co',\n",
       "       'myactivity.google.com', 'phandroid.com', 'support.google.com',\n",
       "       'google.co.uk', 'ask', 'l.messenger.com', 'adwords.google.com',\n",
       "       'dealspotr.com', 'google', 'groups.google.com', 'google.co.in',\n",
       "       'learn.colorado.edu', 'googleads.g.doubleclick.net',\n",
       "       'hk.search.yahoo.com', 'uk.businessinsider.com', 'linkedin.com',\n",
       "       'pinterest.com', 'au.search.yahoo.com', 'msn.com', 'google.it',\n",
       "       'google.es', 'desktop.google.com.ua', 'm.baidu.com',\n",
       "       'lm.facebook.com', 'chat.google.com', 'search.myway.com',\n",
       "       'businessinsider.com', 'docs.google.com', 'online.fullsail.edu',\n",
       "       'away.vk.com', 'aol', 'course.fso.fullsail.edu',\n",
       "       'h.yandex-team.ru', 'gophergala.com', 'keep.google.com',\n",
       "       'connect.googleforwork.com', 'google.nl', 'lunametrics.com',\n",
       "       'datastudio.google.com', 'in.search.yahoo.com',\n",
       "       'sg.search.yahoo.com', 'google.com.ua', 'kik.com', 'go.mail.ru',\n",
       "       'github.com', 'fr.search.yahoo.com', 'google.com.mx', 'kidrex.org',\n",
       "       'google.com.au', '(not set)', 'images.google.ie', 'evernote.com',\n",
       "       'ps-dm.reddit.com', 'us.search.yahoo.com', 'hangouts.google.com',\n",
       "       's0.2mdn.net', 'ph.search.yahoo.com', 'messenger.com',\n",
       "       'ex.fit.edu', 'searchlock.com', 'us.yhs4.search.yahoo.com',\n",
       "       'bing.com', 'm.vk.com', 'search.incredibar.com',\n",
       "       'malaysia.search.yahoo.com', 'suche.t-online.de', 'google.co.id',\n",
       "       'google.de', 'twitter.com', 'plus.url.google.com', 'google.ru',\n",
       "       'maktoob.search.yahoo.com', 'tw.search.yahoo.com', 'google.com.hk',\n",
       "       'voice.google.com', 'google.com.br', 'images.google.co.id',\n",
       "       'nordic.businessinsider.com', 'google.co.th', 'mail.aol.com',\n",
       "       'it.search.yahoo.com', 'google.ca', 'images.google',\n",
       "       'm.reddit.com', 'csfirst.withgoogle.com', 'seroundtable.com',\n",
       "       'google.no', 'aulagrado.esic.edu', 'm.sogou.com',\n",
       "       'inbox.google.com', 'images.google.lk', 'amazon.com',\n",
       "       'getiriver.com', 'google.com.pe', 'spaces.google.com', 'vk.com',\n",
       "       'en.wikipedia.org', 'mg.mail.yahoo.com', 'google.ch',\n",
       "       'getpocket.com', 'br.pinterest.com', 'images.google.lt',\n",
       "       'images.google.fr', 'blackboard.towson.edu',\n",
       "       'se.yhs4.search.yahoo.com', 'ad.doubleclick.net',\n",
       "       'se.search.yahoo.com', 'google.cl', 'google.com.tw',\n",
       "       'es.search.yahoo.com', 'int.search.mywebsearch.com',\n",
       "       'web.skype.com', 'uk.search.yahoo.com', 'google.at',\n",
       "       'mysearch.com', 'search.1and1.com', 'de.pinterest.com',\n",
       "       's7-eu4.ixquick.com', 'flipboard.com', 'web.facebook.com',\n",
       "       'google.com.pk', 'google.com.ph', 'learn.temple.edu',\n",
       "       'members.s7.exacttarget.com', 'feedly.com', 'myaccount.google.com',\n",
       "       'google.lk', 'markets.businessinsider.com', 'businessinsider.in',\n",
       "       'newsstand.google.com', 'finance.yahoo.com', 'yahoo.com',\n",
       "       'ca.search.yahoo.com', 'mail.verizon.com', 'yandex', 'google.pl',\n",
       "       'google.co.nz', 'marketingland.com', 'basecamp.com',\n",
       "       'apis.mail.yahoo.com', 'br.search.yahoo.com',\n",
       "       'espanol.search.yahoo.com', 'collaborate.northwestern.edu',\n",
       "       'cn.bing.com', 'google.co.il', 'meetup.com',\n",
       "       'search.earthlink.net', 'baidu.com', 'gsuite.google.com',\n",
       "       'staging.talkgadget.google.com', 'google.co.za', 'google.rs',\n",
       "       'good.barkpost.com', 'gist.github.com', 'ausdroid.net',\n",
       "       'computerworld.com', 'admin.globalaccess.com',\n",
       "       'fr.yhs4.search.yahoo.com', 'blognone.com', 'web.mail.comcast.net',\n",
       "       'so.com', 'dena-design.qiita.com', 'search.snapdo.com', 'msn',\n",
       "       'start.wow.com', 'google.co.kr', '9to5google.com',\n",
       "       'nl.search.yahoo.com', 'm.yz.sm.cn', 'us.wow.com', 'centrum.cz',\n",
       "       'cc.csusm.edu', 'web.whatsapp.com'], dtype=object)"
      ]
     },
     "execution_count": 27,
     "metadata": {},
     "output_type": "execute_result"
    }
   ],
   "source": [
    "df['source'].unique()"
   ]
  },
  {
   "cell_type": "code",
   "execution_count": 28,
   "id": "74ca666e",
   "metadata": {},
   "outputs": [
    {
     "data": {
      "text/plain": [
       "array(['Direct', 'Bing', 'Twitter', 'Baidu', 'Ask', 'Otros', 'Educación',\n",
       "       'Google', 'Yahoo', 'DuckDuckGo', 'YouTube', 'Facebook', 'Email',\n",
       "       'Noticias / Negocios', 'LinkedIn', 'Otros buscadores'],\n",
       "      dtype=object)"
      ]
     },
     "execution_count": 28,
     "metadata": {},
     "output_type": "execute_result"
    }
   ],
   "source": [
    "def source_groups(x):\n",
    "    x = str(x).lower()\n",
    "    if x in ['(direct)', '(not set)']:\n",
    "        return 'Direct'\n",
    "    elif 'google' in x:\n",
    "        return 'Google'\n",
    "    elif 'bing' in x:\n",
    "        return 'Bing'\n",
    "    elif 'yahoo' in x:\n",
    "        return 'Yahoo'\n",
    "    elif 'baidu' in x:\n",
    "        return 'Baidu'\n",
    "    elif 'ask' in x:\n",
    "        return 'Ask'\n",
    "    elif 'duckduckgo' in x:\n",
    "        return 'DuckDuckGo'\n",
    "    elif 'facebook' in x:\n",
    "        return 'Facebook'\n",
    "    elif 'twitter.com' in x or 't.co' in x:\n",
    "        return 'Twitter'\n",
    "    elif 'reddit' in x:\n",
    "        return 'Reddit'\n",
    "    elif 'linkedin' in x:\n",
    "        return 'LinkedIn'\n",
    "    elif 'pinterest' in x:\n",
    "        return 'Pinterest'\n",
    "    elif 'youtube' in x:\n",
    "        return 'YouTube'\n",
    "    elif 'mail' in x or 'outlook' in x or 'aol' in x or 'verizon' in x:\n",
    "        return 'Email'\n",
    "    elif any(s in x for s in ['edu', 'learn.', 'blackboard', 'collaborate']):\n",
    "        return 'Educación'\n",
    "    elif 'yandex' in x or 'sm.cn' in x or 'so.com' in x or 'sogou' in x:\n",
    "        return 'Otros buscadores'\n",
    "    elif 'businessinsider' in x or 'forbes' in x or 'marketingland' in x:\n",
    "        return 'Noticias / Negocios'\n",
    "    else:\n",
    "        return 'Otros'\n",
    "\n",
    "# Suponiendo que tu columna se llama 'source'\n",
    "df['source_grouped'] = df['source'].apply(source_groups)\n",
    "df['source_grouped'].unique()\n"
   ]
  },
  {
   "cell_type": "code",
   "execution_count": 29,
   "id": "d16825d6",
   "metadata": {},
   "outputs": [
    {
     "data": {
      "text/plain": [
       "source_grouped\n",
       "Direct                 167455\n",
       "Google                 157232\n",
       "YouTube                 43921\n",
       "Otros                   13516\n",
       "Facebook                 3770\n",
       "Twitter                  3233\n",
       "Yahoo                    1071\n",
       "Baidu                    1017\n",
       "Bing                      974\n",
       "Ask                       240\n",
       "DuckDuckGo                166\n",
       "Otros buscadores           90\n",
       "Noticias / Negocios        86\n",
       "Educación                  68\n",
       "Email                      42\n",
       "LinkedIn                   11\n",
       "Name: count, dtype: int64"
      ]
     },
     "execution_count": 29,
     "metadata": {},
     "output_type": "execute_result"
    }
   ],
   "source": [
    "df['source_grouped'].value_counts()"
   ]
  },
  {
   "cell_type": "code",
   "execution_count": 30,
   "id": "5ef98291",
   "metadata": {},
   "outputs": [
    {
     "data": {
      "text/plain": [
       "array(['Organic Search', 'Direct', 'Referral', 'Paid Search',\n",
       "       'Affiliates', 'Display', 'Social', '(Other)'], dtype=object)"
      ]
     },
     "execution_count": 30,
     "metadata": {},
     "output_type": "execute_result"
    }
   ],
   "source": [
    "df['channelGrouping'].unique()"
   ]
  },
  {
   "cell_type": "code",
   "execution_count": 31,
   "id": "26efe67e",
   "metadata": {},
   "outputs": [
    {
     "data": {
      "text/plain": [
       "array(['Chrome', 'Edge', 'Internet Explorer', 'Firefox', 'Safari',\n",
       "       'Android Webview', 'UC Browser', 'Opera Mini', 'YaBrowser',\n",
       "       'Safari (in-app)', 'BlackBerry', 'Opera', 'Nintendo Browser',\n",
       "       'Maxthon', 'Puffin', 'Coc Coc', 'Amazon Silk', 'Apple-iPhone7C2',\n",
       "       'MRCHROME', 'Android Browser', 'Nokia Browser',\n",
       "       'Mozilla Compatible Agent', 'SeaMonkey', 'LYF_LS_4002_12',\n",
       "       'CSM Click', 'Iron', 'Mozilla', 'Seznam', 'osee2unifiedRelease',\n",
       "       'Changa 99695759', 'subjectAgent: NoticiasBoom', 'M5',\n",
       "       'Android Runtime', 'DASH_JR_3G', 'IE with Chrome Frame', 'DoCoMo',\n",
       "       'YE', '(not set)', 'Reddit'], dtype=object)"
      ]
     },
     "execution_count": 31,
     "metadata": {},
     "output_type": "execute_result"
    }
   ],
   "source": [
    "df['browser'].unique()"
   ]
  },
  {
   "cell_type": "code",
   "execution_count": 32,
   "id": "edfa9fc5",
   "metadata": {},
   "outputs": [
    {
     "data": {
      "text/plain": [
       "browser\n",
       "Chrome                        279456\n",
       "Safari                         61638\n",
       "Firefox                        17834\n",
       "Internet Explorer               9513\n",
       "Android Webview                 6225\n",
       "Edge                            4976\n",
       "Safari (in-app)                 4199\n",
       "Opera Mini                      3075\n",
       "Opera                           2037\n",
       "UC Browser                      1390\n",
       "YaBrowser                        965\n",
       "Coc Coc                          346\n",
       "Amazon Silk                      274\n",
       "Android Browser                  249\n",
       "Mozilla Compatible Agent         197\n",
       "Maxthon                          112\n",
       "MRCHROME                          89\n",
       "BlackBerry                        80\n",
       "Puffin                            80\n",
       "Nintendo Browser                  65\n",
       "Nokia Browser                     34\n",
       "Seznam                            10\n",
       "LYF_LS_4002_12                     8\n",
       "SeaMonkey                          7\n",
       "Apple-iPhone7C2                    6\n",
       "Mozilla                            6\n",
       "Iron                               5\n",
       "DASH_JR_3G                         3\n",
       "osee2unifiedRelease                2\n",
       "(not set)                          2\n",
       "CSM Click                          1\n",
       "subjectAgent: NoticiasBoom         1\n",
       "Changa 99695759                    1\n",
       "Android Runtime                    1\n",
       "M5                                 1\n",
       "IE with Chrome Frame               1\n",
       "DoCoMo                             1\n",
       "YE                                 1\n",
       "Reddit                             1\n",
       "Name: count, dtype: int64"
      ]
     },
     "execution_count": 32,
     "metadata": {},
     "output_type": "execute_result"
    }
   ],
   "source": [
    "df['browser'].value_counts()"
   ]
  },
  {
   "cell_type": "code",
   "execution_count": 33,
   "id": "cd5f2668",
   "metadata": {},
   "outputs": [
    {
     "data": {
      "text/plain": [
       "array(['desktop', 'mobile', 'tablet'], dtype=object)"
      ]
     },
     "execution_count": 33,
     "metadata": {},
     "output_type": "execute_result"
    }
   ],
   "source": [
    "df['deviceCategory'].unique()"
   ]
  },
  {
   "cell_type": "code",
   "execution_count": 34,
   "id": "24befd9a",
   "metadata": {},
   "outputs": [
    {
     "data": {
      "text/plain": [
       "array(['Australia', 'Turkey', 'Russia', 'United States', 'Indonesia',\n",
       "       'India', 'Spain', 'United Kingdom', 'Netherlands', 'Algeria',\n",
       "       'Singapore', 'Switzerland', 'Japan', 'Canada', 'Colombia',\n",
       "       'Mexico', 'China', 'France', 'Germany', 'Poland', 'Italy',\n",
       "       'Israel', 'Greece', 'Sri Lanka', 'Sweden', 'Taiwan', 'Serbia',\n",
       "       'Hong Kong', 'Côte d’Ivoire', 'Egypt', 'Philippines', 'Hungary',\n",
       "       'Portugal', 'Belgium', 'Thailand', 'Kosovo', 'Ukraine',\n",
       "       'Bangladesh', 'Romania', 'South Africa', 'United Arab Emirates',\n",
       "       'Jersey', 'South Korea', 'Malaysia', 'Pakistan', 'Brazil',\n",
       "       'Czechia', 'Ireland', 'Dominican Republic', 'Vietnam',\n",
       "       'New Zealand', 'Austria', 'Denmark', 'Qatar', 'Estonia', 'Albania',\n",
       "       'Kuwait', 'Bulgaria', 'Guatemala', 'Cyprus', 'Slovakia',\n",
       "       '(not set)', 'Macedonia (FYROM)', 'Nigeria', 'Uruguay', 'Morocco',\n",
       "       'Saudi Arabia', 'Latvia', 'Venezuela', 'Georgia', 'Oman',\n",
       "       'Finland', 'Costa Rica', 'Cameroon', 'Peru', 'Panama', 'Nicaragua',\n",
       "       'Argentina', 'Puerto Rico', 'Benin', 'Palestine', 'Uzbekistan',\n",
       "       'Réunion', 'Senegal', 'Belarus', 'Honduras', 'Ethiopia', 'Tunisia',\n",
       "       'Cambodia', 'Laos', 'Zambia', 'Guadeloupe', 'Chile', 'Norway',\n",
       "       'Myanmar (Burma)', 'Lithuania', 'Caribbean Netherlands',\n",
       "       'Kazakhstan', 'Bermuda', 'Slovenia', 'Jamaica', 'Lebanon',\n",
       "       'Tanzania', 'Kenya', 'Brunei', 'Ecuador', 'Jordan', 'Malta',\n",
       "       'New Caledonia', 'Bosnia & Herzegovina', 'Macau', 'Moldova',\n",
       "       'Bahrain', 'Luxembourg', 'Cape Verde', 'Bolivia', 'Iraq', 'Uganda',\n",
       "       'St. Lucia', 'Afghanistan', 'Croatia', 'Azerbaijan', 'Iceland',\n",
       "       'Kyrgyzstan', 'British Virgin Islands', 'Martinique', 'Yemen',\n",
       "       'Ghana', 'French Polynesia', 'Armenia', 'Haiti', 'El Salvador',\n",
       "       'Guinea', 'Syria', 'Congo - Kinshasa', 'Trinidad & Tobago',\n",
       "       'Bahamas', 'Curaçao', 'Monaco', 'Nepal', 'Mauritania', 'Libya',\n",
       "       'Grenada', 'Paraguay', 'Aruba', 'Angola', 'Guam',\n",
       "       'St. Vincent & Grenadines', 'Guernsey', 'Montenegro', 'Swaziland',\n",
       "       'Turks & Caicos Islands', 'Mauritius', 'Mali', 'Barbados',\n",
       "       'Sierra Leone', 'Mozambique', 'Somalia', 'U.S. Virgin Islands',\n",
       "       'Tajikistan', 'Greenland', 'St. Kitts & Nevis', 'Guyana',\n",
       "       'Turkmenistan', 'Fiji', 'Mongolia', 'Gambia', 'Togo', 'Madagascar',\n",
       "       'Namibia', 'Sudan', 'Northern Mariana Islands', 'Maldives',\n",
       "       'Antigua & Barbuda', 'Sint Maarten', 'Botswana', 'Burkina Faso',\n",
       "       'Cook Islands', 'Iran', 'Burundi', 'Niger', 'French Guiana',\n",
       "       'Gibraltar', 'Suriname', 'Zimbabwe', 'Cayman Islands', 'Andorra',\n",
       "       'Rwanda', 'Chad', 'Vanuatu', 'Eritrea', 'Bhutan', 'San Marino',\n",
       "       'Congo - Brazzaville', 'Timor-Leste', 'Malawi', 'Isle of Man',\n",
       "       'Belize', 'Papua New Guinea', 'Faroe Islands', 'Mayotte',\n",
       "       'Anguilla', 'Djibouti', 'Liberia', 'Seychelles', 'Dominica',\n",
       "       'Gabon', 'Liechtenstein', 'Comoros', 'Marshall Islands',\n",
       "       'Åland Islands', 'Lesotho', 'St. Barthélemy'], dtype=object)"
      ]
     },
     "execution_count": 34,
     "metadata": {},
     "output_type": "execute_result"
    }
   ],
   "source": [
    "df['country'].unique()"
   ]
  },
  {
   "cell_type": "code",
   "execution_count": 35,
   "id": "ac3ccfe6",
   "metadata": {},
   "outputs": [
    {
     "data": {
      "text/plain": [
       "array(['Sydney', 'Istanbul', 'Moscow', 'not available in demo dataset',\n",
       "       '(not set)', 'Singapore', 'Minato', 'Hyderabad', 'Jakarta',\n",
       "       'Mountain View', 'Melbourne', 'Tel Aviv-Yafo', 'Mumbai', 'Chicago',\n",
       "       'Chennai', 'Los Angeles', 'London', 'Santa Clara', 'Hong Kong',\n",
       "       'Fremont', 'Berlin', 'San Francisco', 'Bangkok', 'New York',\n",
       "       'Montreal', 'Toronto', 'Boston', 'Houston', 'San Jose',\n",
       "       'Bengaluru', 'Seoul', 'Austin', 'Sunnyvale', 'Mexico City',\n",
       "       'Colombo', 'Thessaloniki', 'Madrid', 'Ashburn', 'Dublin', 'Paris',\n",
       "       'Bogota', 'Ahmedabad', 'New Delhi', 'Barranquilla', 'Palo Alto',\n",
       "       'Calgary', 'Bilbao', 'Warsaw', 'Jaipur', 'Phoenix', 'Kolkata',\n",
       "       'Ho Chi Minh City', 'Dallas', 'Atlanta', 'Detroit', 'Seattle',\n",
       "       'Redmond', 'Santiago', 'Jersey City', 'Riyadh', 'Ann Arbor',\n",
       "       'Kuala Lumpur', 'Pune', 'Prague', 'Cupertino', 'Milpitas', 'Rome',\n",
       "       'Washington', 'Brisbane', 'Sao Paulo', 'Beijing', 'Adelaide',\n",
       "       'Osaka', 'Portland', 'Milan', 'San Bruno', 'Kirkland', 'Vancouver',\n",
       "       'San Diego', 'Pittsburgh', 'Irvine', 'Cambridge', 'Kitchener',\n",
       "       'Boulder', 'Quezon City', 'Alicante', 'Ankara', 'Lisbon',\n",
       "       'Budapest', 'Indore', 'Lagos', 'Vienna', 'Guatemala City', 'Cork',\n",
       "       'Barcelona', 'Zurich', 'Medellin', 'San Antonio', 'Munich',\n",
       "       'Hamburg', 'Antwerp', 'Auckland', 'Dubai', 'Shinjuku', 'Aalen',\n",
       "       'Athens', 'Mechelen', 'Gothenburg', 'Amsterdam', 'Copenhagen',\n",
       "       'Buenos Aires', 'Redwood City', 'Denver', 'Yokohama', 'Kiev',\n",
       "       'Stockholm', 'Oxford', 'Manchester', 'Taguig', 'Chandigarh',\n",
       "       'Rexburg', 'Lucknow', 'La Victoria', 'Santa Fe', 'Rosario',\n",
       "       'Salem', 'Cape Town', 'Zaragoza', 'Kalamazoo', 'Lille', 'Evanston',\n",
       "       'McAllen', 'Oneonta', 'Appleton', 'Karachi', 'San Mateo',\n",
       "       'Boardman', 'Oakland', 'Poznan', 'Tempe', 'Zagreb', 'Padua',\n",
       "       'Gurgaon', 'Leusden', 'Curitiba', 'South San Francisco',\n",
       "       'Westville', 'Ningbo', 'Philadelphia', 'Neipu Township',\n",
       "       'Maracaibo', 'Liverpool', 'Pryor', 'Indianapolis', 'Cincinnati',\n",
       "       'Makati', 'Eau Claire', 'Zaoqiao Township', 'Minneapolis',\n",
       "       'Tbilisi', 'Oshkosh', 'Burnaby', 'Leeds', 'Saint Petersburg',\n",
       "       'Jeddah', 'Charlotte', 'Madison', 'Tampa', 'Kharagpur', 'Brno',\n",
       "       'Lenoir', 'Perth', 'Lake Oswego', 'Kampar', 'Chuo', 'Bellflower',\n",
       "       'Minxiong Township', 'Bucharest', 'Navi Mumbai', 'Lyon',\n",
       "       'Ciudad Real', \"Saint-Ouen-l'Aumone\", 'Minsk', 'Bhubaneswar',\n",
       "       'Dundalk', 'Columbus', 'Goose Creek', 'Krakow', 'Menlo Park',\n",
       "       'Chiyoda', 'Petaling Jaya', 'Bellingham', 'Zhongli District',\n",
       "       'Bournemouth', 'Panama City', 'Piscataway Township',\n",
       "       \"Villeneuve-d'Ascq\", 'Sacramento', 'Bandung', 'Lausanne', 'Prato',\n",
       "       'Dusseldorf', 'Sabadell', 'Birmingham', 'Kansas City', 'Hanoi',\n",
       "       'Plano', 'Caracas', 'Bordeaux', 'Alba', 'Belagavi', 'Casablanca',\n",
       "       'Hayward', 'Nashville', 'Fresno', 'Malaga', 'Canterbury',\n",
       "       'Springfield', 'Pozuelo de Alarcon', 'Noida', 'Sakai', 'Shibuya',\n",
       "       'Montevideo', 'Rio de Janeiro', 'East Lansing', 'Brussels',\n",
       "       'Utrecht', 'The Hague', 'Elche', 'Chico', 'Akron', 'Edmonton',\n",
       "       'Newark', 'Zhudong Township', 'Oslo', 'Riga', 'Frankfurt',\n",
       "       'Tallinn', 'Vilnius', 'Salt Lake City', 'Lahore', 'Orlando',\n",
       "       'Courbevoie', 'Oviedo', 'Towson', 'Turin', 'Rotterdam',\n",
       "       \"'s Hertogenbosch\", 'Smyrna', 'Westlake Village', 'Mississauga',\n",
       "       'Glasgow', 'Subang Jaya', 'Raleigh', 'North Richland Hills',\n",
       "       'Lewisville', 'Sofia', 'Overland Park', 'Issy-les-Moulineaux',\n",
       "       'Seville', 'Geneva', 'Breda', 'Valparaiso', 'Makassar',\n",
       "       'University Park', 'Hangzhou', 'Faro', 'Dahlonega', 'Anaheim',\n",
       "       'Tunis', 'Porto Alegre', 'Antalya', 'Sherbrooke', 'Guwahati',\n",
       "       'Bozeman', 'Koszalin', 'Santiago de Surco', 'Helsinki', 'Bellevue',\n",
       "       'Villafranca del Castillo', 'San Marcos', 'Carrollton', 'Brest',\n",
       "       'Omaha', 'Aalborg', 'Bratislava', 'Manaus', 'Amberg', 'Katowice',\n",
       "       'Whitewater', 'Wrexham', 'Charlottesville', 'Patna',\n",
       "       'Santa Monica', 'Miyazaki', 'Bremen', 'Valencia', 'College Park',\n",
       "       'Cagliari', 'Chisinau', 'Kochi', 'El Paso', 'Tucson', 'Richardson',\n",
       "       'Ipoh', 'Council Bluffs', 'Stanford', 'Almeria', 'Ridgewood',\n",
       "       'Cologne', 'Santa Ana', 'Miami', 'Salford', 'Camden', 'Monterrey',\n",
       "       'Naples', 'Sant Cugat del Valles', 'Chevilly Larue',\n",
       "       'San Salvador', 'Ghent', 'Ramat Gan', 'Alexandria', 'Medina',\n",
       "       'Cali', 'Brampton', 'Fort Collins', 'Thornton', 'Naha', 'Berkeley',\n",
       "       'Johnson City', 'Fareham', 'Orem', 'Schagen', 'Ottawa', 'Cairo',\n",
       "       'Laguna Beach', 'Wheeling', 'Ballinger', 'Watford', 'Coffeyville',\n",
       "       'Brookline', 'Wroclaw', 'Cyberjaya', 'Vincennes', 'Tallahassee',\n",
       "       'Arequipa', 'Erode', 'Tigard', 'Louisville', 'Furth', 'Greystones',\n",
       "       'Woodbridge Township', 'Jacksonville', 'Pleasanton', 'Szczecin',\n",
       "       'Groningen', 'Gijon', 'Lehi', 'Osijek', 'Wellesley', 'Shanghai',\n",
       "       'Quimper', 'Oude Meer', 'Collegeville', 'Marlboro', 'Metz',\n",
       "       'Altrincham', 'Farmington Hills', 'Honolulu', 'Iasi',\n",
       "       'White Plains', 'Chamblee', 'Villanova', 'Izmir', 'Amersfoort',\n",
       "       'Egham', 'Nairobi', 'Skopje', 'Clermont-Ferrand', 'Pueblo',\n",
       "       'Leuven', 'Lawrence Township', 'Kumamoto', 'Surabaya', 'Barnsley',\n",
       "       'Kosice', 'Shiocton', 'Sheffield', 'Montigny-le-Bretonneux',\n",
       "       'Stuttgart', 'Baltimore', 'Lincoln', 'Eindhoven', 'Nantes',\n",
       "       'Quebec City', 'Randburg', 'Bothell', 'Ostrava', 'Decin',\n",
       "       'Hradec Kralove', 'Lexington', 'Herzliya', 'Nottingham',\n",
       "       'Taoyuan District', 'Salzburg', 'Fukui', 'New Orleans', 'Barrie',\n",
       "       'Burlington', 'Sandy Springs', 'Hallein', 'St. Louis', 'Avon',\n",
       "       'Bath', 'Boise', 'Campinas'], dtype=object)"
      ]
     },
     "execution_count": 35,
     "metadata": {},
     "output_type": "execute_result"
    }
   ],
   "source": [
    "df['city'].unique()"
   ]
  },
  {
   "cell_type": "code",
   "execution_count": 36,
   "id": "7822237a",
   "metadata": {},
   "outputs": [],
   "source": [
    "df['month'] = df['date'].dt.month"
   ]
  },
  {
   "cell_type": "code",
   "execution_count": 37,
   "id": "535fde16",
   "metadata": {},
   "outputs": [
    {
     "data": {
      "text/plain": [
       "Index(['fullVisitorID', 'visitNumber', 'date', 'bounces', 'hits', 'pageviews',\n",
       "       'timeOnSite', 'transactionRevenue', 'transactions', 'source',\n",
       "       'channelGrouping', 'browser', 'deviceCategory', 'country', 'city',\n",
       "       'timeOnSite_h', 'source_grouped', 'month'],\n",
       "      dtype='object')"
      ]
     },
     "execution_count": 37,
     "metadata": {},
     "output_type": "execute_result"
    }
   ],
   "source": [
    "df.columns"
   ]
  },
  {
   "cell_type": "code",
   "execution_count": 38,
   "id": "788b0bd4",
   "metadata": {},
   "outputs": [
    {
     "data": {
      "text/plain": [
       "<Axes: xlabel='month'>"
      ]
     },
     "execution_count": 38,
     "metadata": {},
     "output_type": "execute_result"
    },
    {
     "data": {
      "image/png": "[encoded data removed]",
      "text/plain": [
       "<Figure size 640x480 with 1 Axes>"
      ]
     },
     "metadata": {},
     "output_type": "display_data"
    }
   ],
   "source": [
    "df.groupby(['month']).agg({'transactionRevenue':'sum'}).plot()"
   ]
  },
  {
   "cell_type": "code",
   "execution_count": 39,
   "id": "ebf2faa8",
   "metadata": {},
   "outputs": [
    {
     "data": {
      "text/plain": [
       "Index(['fullVisitorID', 'visitNumber', 'date', 'bounces', 'hits', 'pageviews',\n",
       "       'timeOnSite', 'transactionRevenue', 'transactions', 'source',\n",
       "       'channelGrouping', 'browser', 'deviceCategory', 'country', 'city',\n",
       "       'timeOnSite_h', 'source_grouped', 'month'],\n",
       "      dtype='object')"
      ]
     },
     "execution_count": 39,
     "metadata": {},
     "output_type": "execute_result"
    }
   ],
   "source": [
    "df.columns"
   ]
  },
  {
   "cell_type": "code",
   "execution_count": 42,
   "id": "5847c171",
   "metadata": {},
   "outputs": [
    {
     "data": {
      "text/plain": [
       "bounces\n",
       "0    196928\n",
       "1    195964\n",
       "Name: count, dtype: int64"
      ]
     },
     "execution_count": 42,
     "metadata": {},
     "output_type": "execute_result"
    }
   ],
   "source": [
    "df['bounces'].value_counts()"
   ]
  },
  {
   "cell_type": "code",
   "execution_count": 44,
   "id": "683633d4",
   "metadata": {},
   "outputs": [
    {
     "data": {
      "text/html": [
       "<div>\n",
       "<style scoped>\n",
       "    .dataframe tbody tr th:only-of-type {\n",
       "        vertical-align: middle;\n",
       "    }\n",
       "\n",
       "    .dataframe tbody tr th {\n",
       "        vertical-align: top;\n",
       "    }\n",
       "\n",
       "    .dataframe thead th {\n",
       "        text-align: right;\n",
       "    }\n",
       "</style>\n",
       "<table border=\"1\" class=\"dataframe\">\n",
       "  <thead>\n",
       "    <tr style=\"text-align: right;\">\n",
       "      <th></th>\n",
       "      <th>transactionRevenue</th>\n",
       "    </tr>\n",
       "    <tr>\n",
       "      <th>bounces</th>\n",
       "      <th></th>\n",
       "    </tr>\n",
       "  </thead>\n",
       "  <tbody>\n",
       "    <tr>\n",
       "      <th>0</th>\n",
       "      <td>859297.27</td>\n",
       "    </tr>\n",
       "    <tr>\n",
       "      <th>1</th>\n",
       "      <td>0.00</td>\n",
       "    </tr>\n",
       "  </tbody>\n",
       "</table>\n",
       "</div>"
      ],
      "text/plain": [
       "         transactionRevenue\n",
       "bounces                    \n",
       "0                 859297.27\n",
       "1                      0.00"
      ]
     },
     "execution_count": 44,
     "metadata": {},
     "output_type": "execute_result"
    }
   ],
   "source": [
    "df.groupby('bounces').agg({'transactionRevenue':'sum'})"
   ]
  },
  {
   "cell_type": "code",
   "execution_count": 50,
   "id": "33a94558",
   "metadata": {},
   "outputs": [
    {
     "data": {
      "text/plain": [
       "196928"
      ]
     },
     "execution_count": 50,
     "metadata": {},
     "output_type": "execute_result"
    }
   ],
   "source": [
    "df[df['bounces']==0].shape[0]"
   ]
  },
  {
   "cell_type": "code",
   "execution_count": 51,
   "id": "9187b750",
   "metadata": {},
   "outputs": [
    {
     "data": {
      "text/plain": [
       "191651"
      ]
     },
     "execution_count": 51,
     "metadata": {},
     "output_type": "execute_result"
    }
   ],
   "source": [
    "df[(df['bounces']==0)&(df['transactionRevenue']==0)].shape[0]"
   ]
  },
  {
   "cell_type": "code",
   "execution_count": 55,
   "id": "b9550f83",
   "metadata": {},
   "outputs": [
    {
     "data": {
      "text/plain": [
       "5277"
      ]
     },
     "execution_count": 55,
     "metadata": {},
     "output_type": "execute_result"
    }
   ],
   "source": [
    "df[df['transactionRevenue']>0].shape[0]"
   ]
  },
  {
   "cell_type": "code",
   "execution_count": 54,
   "id": "3a6d8d0f",
   "metadata": {},
   "outputs": [
    {
     "data": {
      "text/plain": [
       "5277"
      ]
     },
     "execution_count": 54,
     "metadata": {},
     "output_type": "execute_result"
    }
   ],
   "source": [
    "df[df['transactions']>0].shape[0]"
   ]
  },
  {
   "cell_type": "code",
   "execution_count": 59,
   "id": "4af87c67",
   "metadata": {},
   "outputs": [
    {
     "data": {
      "text/plain": [
       "count    5277.000000\n",
       "mean       32.391700\n",
       "std        25.730213\n",
       "min         2.000000\n",
       "25%        18.000000\n",
       "50%        26.000000\n",
       "75%        39.000000\n",
       "max       500.000000\n",
       "Name: hits, dtype: float64"
      ]
     },
     "execution_count": 59,
     "metadata": {},
     "output_type": "execute_result"
    }
   ],
   "source": [
    "df[df['transactions']>0]['hits'].describe()"
   ]
  },
  {
   "cell_type": "code",
   "execution_count": 63,
   "id": "9941ebaa",
   "metadata": {},
   "outputs": [
    {
     "data": {
      "text/plain": [
       "count    387615.000000\n",
       "mean          4.033177\n",
       "std           7.373788\n",
       "min           1.000000\n",
       "25%           1.000000\n",
       "50%           1.000000\n",
       "75%           4.000000\n",
       "max         500.000000\n",
       "Name: hits, dtype: float64"
      ]
     },
     "execution_count": 63,
     "metadata": {},
     "output_type": "execute_result"
    }
   ],
   "source": [
    "df[df['transactions']==0]['hits'].describe()"
   ]
  },
  {
   "cell_type": "code",
   "execution_count": 64,
   "id": "2757627b",
   "metadata": {},
   "outputs": [
    {
     "data": {
      "text/plain": [
       "count    5277.000000\n",
       "mean       25.693386\n",
       "std        18.873416\n",
       "min         2.000000\n",
       "25%        15.000000\n",
       "50%        21.000000\n",
       "75%        31.000000\n",
       "max       466.000000\n",
       "Name: pageviews, dtype: float64"
      ]
     },
     "execution_count": 64,
     "metadata": {},
     "output_type": "execute_result"
    }
   ],
   "source": [
    "df[df['transactions']>0]['pageviews'].describe()"
   ]
  },
  {
   "cell_type": "code",
   "execution_count": 65,
   "id": "f86261cb",
   "metadata": {},
   "outputs": [
    {
     "data": {
      "text/plain": [
       "count    387615.000000\n",
       "mean          3.472213\n",
       "std           5.498020\n",
       "min           0.000000\n",
       "25%           1.000000\n",
       "50%           1.000000\n",
       "75%           4.000000\n",
       "max         340.000000\n",
       "Name: pageviews, dtype: float64"
      ]
     },
     "execution_count": 65,
     "metadata": {},
     "output_type": "execute_result"
    }
   ],
   "source": [
    "df[df['transactions']==0]['pageviews'].describe()"
   ]
  },
  {
   "cell_type": "code",
   "execution_count": 75,
   "id": "12b967db",
   "metadata": {},
   "outputs": [
    {
     "data": {
      "text/plain": [
       "count    5277.000000\n",
       "mean        0.279967\n",
       "std         0.243866\n",
       "min         0.000000\n",
       "25%         0.122222\n",
       "50%         0.207500\n",
       "75%         0.359167\n",
       "max         3.371111\n",
       "Name: timeOnSite_h, dtype: float64"
      ]
     },
     "execution_count": 75,
     "metadata": {},
     "output_type": "execute_result"
    }
   ],
   "source": [
    "df[(df['transactions']>0)]['timeOnSite_h'].describe()"
   ]
  },
  {
   "cell_type": "code",
   "execution_count": 70,
   "id": "daa16d97",
   "metadata": {},
   "outputs": [
    {
     "data": {
      "text/plain": [
       "count    387615.000000\n",
       "mean          0.035152\n",
       "std           0.095443\n",
       "min           0.000000\n",
       "25%           0.000000\n",
       "50%           0.000000\n",
       "75%           0.024167\n",
       "max           3.291111\n",
       "Name: timeOnSite_h, dtype: float64"
      ]
     },
     "execution_count": 70,
     "metadata": {},
     "output_type": "execute_result"
    }
   ],
   "source": [
    "df[df['transactions']==0]['timeOnSite_h'].describe()"
   ]
  },
  {
   "cell_type": "code",
   "execution_count": 82,
   "id": "cc847e67",
   "metadata": {},
   "outputs": [
    {
     "data": {
      "text/plain": [
       "country\n",
       "United States           5042\n",
       "Canada                    80\n",
       "Taiwan                    11\n",
       "Japan                     11\n",
       "Venezuela                  9\n",
       "Mexico                     8\n",
       "Australia                  7\n",
       "Brazil                     6\n",
       "Singapore                  6\n",
       "Belgium                    5\n",
       "India                      5\n",
       "Colombia                   5\n",
       "Puerto Rico                5\n",
       "South Korea                5\n",
       "Switzerland                5\n",
       "Germany                    4\n",
       "Hong Kong                  4\n",
       "United Kingdom             4\n",
       "Ukraine                    4\n",
       "Ireland                    4\n",
       "United Arab Emirates       3\n",
       "Russia                     3\n",
       "Indonesia                  3\n",
       "Guatemala                  2\n",
       "Spain                      2\n",
       "Greece                     2\n",
       "France                     2\n",
       "Israel                     2\n",
       "Argentina                  2\n",
       "Poland                     2\n",
       "Ecuador                    2\n",
       "Sweden                     2\n",
       "Kuwait                     2\n",
       "China                      2\n",
       "Saudi Arabia               2\n",
       "Malaysia                   1\n",
       "Kazakhstan                 1\n",
       "Georgia                    1\n",
       "Hungary                    1\n",
       "Panama                     1\n",
       "New Zealand                1\n",
       "Anguilla                   1\n",
       "Egypt                      1\n",
       "Czechia                    1\n",
       "Chile                      1\n",
       "Turkey                     1\n",
       "Thailand                   1\n",
       "South Africa               1\n",
       "Peru                       1\n",
       "Name: count, dtype: int64"
      ]
     },
     "execution_count": 82,
     "metadata": {},
     "output_type": "execute_result"
    }
   ],
   "source": [
    "df[(df['transactions']>0)]['country'].value_counts()"
   ]
  },
  {
   "cell_type": "code",
   "execution_count": 83,
   "id": "f0da9851",
   "metadata": {},
   "outputs": [
    {
     "data": {
      "text/plain": [
       "country\n",
       "United States       167182\n",
       "India                24356\n",
       "United Kingdom       19270\n",
       "Canada               12228\n",
       "Germany              10463\n",
       "                     ...  \n",
       "Eritrea                  1\n",
       "Comoros                  1\n",
       "Marshall Islands         1\n",
       "Åland Islands            1\n",
       "St. Barthélemy           1\n",
       "Name: count, Length: 212, dtype: int64"
      ]
     },
     "execution_count": 83,
     "metadata": {},
     "output_type": "execute_result"
    }
   ],
   "source": [
    "df[df['transactions']==0]['country'].value_counts()"
   ]
  }
 ],
 "metadata": {
  "kernelspec": {
   "display_name": "Python 3",
   "language": "python",
   "name": "python3"
  },
  "language_info": {
   "codemirror_mode": {
    "name": "ipython",
    "version": 3
   },
   "file_extension": ".py",
   "mimetype": "text/x-python",
   "name": "python",
   "nbconvert_exporter": "python",
   "pygments_lexer": "ipython3",
   "version": "3.12.2"
  }
 },
 "nbformat": 4,
 "nbformat_minor": 5
}
