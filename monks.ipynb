{
 "cells": [
  {
   "cell_type": "code",
   "execution_count": 2,
   "id": "8f83a120",
   "metadata": {},
   "outputs": [],
   "source": [
    "import pandas as pd\n",
    "import numpy as np\n",
    "from matplotlib import pyplot as plt\n",
    "import seaborn as sns"
   ]
  },
  {
   "cell_type": "code",
   "execution_count": 5,
   "id": "229f1321",
   "metadata": {},
   "outputs": [
    {
     "data": {
      "text/html": [
       "<div>\n",
       "<style scoped>\n",
       "    .dataframe tbody tr th:only-of-type {\n",
       "        vertical-align: middle;\n",
       "    }\n",
       "\n",
       "    .dataframe tbody tr th {\n",
       "        vertical-align: top;\n",
       "    }\n",
       "\n",
       "    .dataframe thead th {\n",
       "        text-align: right;\n",
       "    }\n",
       "</style>\n",
       "<table border=\"1\" class=\"dataframe\">\n",
       "  <thead>\n",
       "    <tr style=\"text-align: right;\">\n",
       "      <th></th>\n",
       "      <th>fullVisitorID</th>\n",
       "      <th>visitNumber</th>\n",
       "      <th>date</th>\n",
       "      <th>bounces</th>\n",
       "      <th>hits</th>\n",
       "      <th>pageviews</th>\n",
       "      <th>timeOnSite</th>\n",
       "      <th>transactionRevenue</th>\n",
       "      <th>transactions</th>\n",
       "      <th>source</th>\n",
       "      <th>channelGrouping</th>\n",
       "      <th>browser</th>\n",
       "      <th>deviceCategory</th>\n",
       "      <th>country</th>\n",
       "      <th>city</th>\n",
       "    </tr>\n",
       "  </thead>\n",
       "  <tbody>\n",
       "    <tr>\n",
       "      <th>0</th>\n",
       "      <td>8533875475515924645</td>\n",
       "      <td>1</td>\n",
       "      <td>20170205</td>\n",
       "      <td>1.0</td>\n",
       "      <td>1</td>\n",
       "      <td>1.0</td>\n",
       "      <td>NaN</td>\n",
       "      <td>NaN</td>\n",
       "      <td>NaN</td>\n",
       "      <td>(direct)</td>\n",
       "      <td>Organic Search</td>\n",
       "      <td>Chrome</td>\n",
       "      <td>desktop</td>\n",
       "      <td>Australia</td>\n",
       "      <td>Sydney</td>\n",
       "    </tr>\n",
       "    <tr>\n",
       "      <th>1</th>\n",
       "      <td>4874599869430831185</td>\n",
       "      <td>2</td>\n",
       "      <td>20170205</td>\n",
       "      <td>1.0</td>\n",
       "      <td>1</td>\n",
       "      <td>1.0</td>\n",
       "      <td>NaN</td>\n",
       "      <td>NaN</td>\n",
       "      <td>NaN</td>\n",
       "      <td>(direct)</td>\n",
       "      <td>Organic Search</td>\n",
       "      <td>Chrome</td>\n",
       "      <td>mobile</td>\n",
       "      <td>Turkey</td>\n",
       "      <td>Istanbul</td>\n",
       "    </tr>\n",
       "    <tr>\n",
       "      <th>2</th>\n",
       "      <td>0361954421372951638</td>\n",
       "      <td>1</td>\n",
       "      <td>20170205</td>\n",
       "      <td>1.0</td>\n",
       "      <td>1</td>\n",
       "      <td>1.0</td>\n",
       "      <td>NaN</td>\n",
       "      <td>NaN</td>\n",
       "      <td>NaN</td>\n",
       "      <td>(direct)</td>\n",
       "      <td>Organic Search</td>\n",
       "      <td>Chrome</td>\n",
       "      <td>desktop</td>\n",
       "      <td>Russia</td>\n",
       "      <td>Moscow</td>\n",
       "    </tr>\n",
       "    <tr>\n",
       "      <th>3</th>\n",
       "      <td>8751850432978942600</td>\n",
       "      <td>2</td>\n",
       "      <td>20170205</td>\n",
       "      <td>1.0</td>\n",
       "      <td>1</td>\n",
       "      <td>1.0</td>\n",
       "      <td>NaN</td>\n",
       "      <td>NaN</td>\n",
       "      <td>NaN</td>\n",
       "      <td>bing</td>\n",
       "      <td>Organic Search</td>\n",
       "      <td>Edge</td>\n",
       "      <td>desktop</td>\n",
       "      <td>United States</td>\n",
       "      <td>not available in demo dataset</td>\n",
       "    </tr>\n",
       "    <tr>\n",
       "      <th>4</th>\n",
       "      <td>2451058030378352110</td>\n",
       "      <td>1</td>\n",
       "      <td>20170205</td>\n",
       "      <td>1.0</td>\n",
       "      <td>1</td>\n",
       "      <td>1.0</td>\n",
       "      <td>NaN</td>\n",
       "      <td>NaN</td>\n",
       "      <td>NaN</td>\n",
       "      <td>(direct)</td>\n",
       "      <td>Organic Search</td>\n",
       "      <td>Chrome</td>\n",
       "      <td>desktop</td>\n",
       "      <td>Indonesia</td>\n",
       "      <td>not available in demo dataset</td>\n",
       "    </tr>\n",
       "  </tbody>\n",
       "</table>\n",
       "</div>"
      ],
      "text/plain": [
       "         fullVisitorID  visitNumber      date  bounces  hits  pageviews  \\\n",
       "0  8533875475515924645            1  20170205      1.0     1        1.0   \n",
       "1  4874599869430831185            2  20170205      1.0     1        1.0   \n",
       "2  0361954421372951638            1  20170205      1.0     1        1.0   \n",
       "3  8751850432978942600            2  20170205      1.0     1        1.0   \n",
       "4  2451058030378352110            1  20170205      1.0     1        1.0   \n",
       "\n",
       "   timeOnSite  transactionRevenue  transactions    source channelGrouping  \\\n",
       "0         NaN                 NaN           NaN  (direct)  Organic Search   \n",
       "1         NaN                 NaN           NaN  (direct)  Organic Search   \n",
       "2         NaN                 NaN           NaN  (direct)  Organic Search   \n",
       "3         NaN                 NaN           NaN      bing  Organic Search   \n",
       "4         NaN                 NaN           NaN  (direct)  Organic Search   \n",
       "\n",
       "  browser deviceCategory        country                           city  \n",
       "0  Chrome        desktop      Australia                         Sydney  \n",
       "1  Chrome         mobile         Turkey                       Istanbul  \n",
       "2  Chrome        desktop         Russia                         Moscow  \n",
       "3    Edge        desktop  United States  not available in demo dataset  \n",
       "4  Chrome        desktop      Indonesia  not available in demo dataset  "
      ]
     },
     "execution_count": 5,
     "metadata": {},
     "output_type": "execute_result"
    }
   ],
   "source": [
    "path = r\"C:\\Users\\HP\\Downloads\\data.csv\"\n",
    "df = pd.read_csv(path, dtype={0:'str'})\n",
    "df.head()"
   ]
  },
  {
   "cell_type": "code",
   "execution_count": null,
   "id": "c4482e3e",
   "metadata": {},
   "outputs": [
    {
     "name": "stdout",
     "output_type": "stream",
     "text": [
      "<class 'pandas.core.frame.DataFrame'>\n",
      "RangeIndex: 392892 entries, 0 to 392891\n",
      "Data columns (total 15 columns):\n",
      " #   Column              Non-Null Count   Dtype  \n",
      "---  ------              --------------   -----  \n",
      " 0   fullVisitorID       392892 non-null  object \n",
      " 1   visitNumber         392892 non-null  int64  \n",
      " 2   date                392892 non-null  int64  \n",
      " 3   bounces             195964 non-null  float64\n",
      " 4   hits                392892 non-null  int64  \n",
      " 5   pageviews           392856 non-null  float64\n",
      " 6   timeOnSite          196399 non-null  float64\n",
      " 7   transactionRevenue  5277 non-null    float64\n",
      " 8   transactions        5277 non-null    float64\n",
      " 9   source              392892 non-null  object \n",
      " 10  channelGrouping     392892 non-null  object \n",
      " 11  browser             392892 non-null  object \n",
      " 12  deviceCategory      392892 non-null  object \n",
      " 13  country             392892 non-null  object \n",
      " 14  city                392892 non-null  object \n",
      "dtypes: float64(5), int64(3), object(7)\n",
      "memory usage: 45.0+ MB\n"
     ]
    }
   ],
   "source": [
    "df.info()"
   ]
  },
  {
   "cell_type": "code",
   "execution_count": 11,
   "id": "18c94a36",
   "metadata": {},
   "outputs": [],
   "source": [
    "df['date'] = pd.to_datetime(df['date'], format='%Y%m%d').dt.date"
   ]
  },
  {
   "cell_type": "code",
   "execution_count": 12,
   "id": "069616ec",
   "metadata": {},
   "outputs": [
    {
     "name": "stdout",
     "output_type": "stream",
     "text": [
      "Tenemos información desde 2017-01-01 hasta 2017-06-30.\n"
     ]
    }
   ],
   "source": [
    "date = df['date']\n",
    "print(f\"Tenemos información desde {date.min()} hasta {date.max()}.\")"
   ]
  },
  {
   "cell_type": "code",
   "execution_count": null,
   "id": "4bfd86c2",
   "metadata": {},
   "outputs": [
    {
     "data": {
      "text/plain": [
       "fullVisitorID\n",
       "1957458976293878100    135\n",
       "7634897085866546110    116\n",
       "3148617623907142276    112\n",
       "3525537916960843419    111\n",
       "6018775317735347795    102\n",
       "                      ... \n",
       "984901111924029842       1\n",
       "1301304072885324590      1\n",
       "9562006476713181017      1\n",
       "4910507032070150816      1\n",
       "0498654448376969495      1\n",
       "Name: count, Length: 308130, dtype: int64"
      ]
     },
     "execution_count": 7,
     "metadata": {},
     "output_type": "execute_result"
    }
   ],
   "source": [
    "df['fullVisitorID'].value_counts()"
   ]
  },
  {
   "cell_type": "code",
   "execution_count": null,
   "id": "02daea3f",
   "metadata": {},
   "outputs": [],
   "source": []
  }
 ],
 "metadata": {
  "kernelspec": {
   "display_name": "Python 3",
   "language": "python",
   "name": "python3"
  },
  "language_info": {
   "codemirror_mode": {
    "name": "ipython",
    "version": 3
   },
   "file_extension": ".py",
   "mimetype": "text/x-python",
   "name": "python",
   "nbconvert_exporter": "python",
   "pygments_lexer": "ipython3",
   "version": "3.12.2"
  }
 },
 "nbformat": 4,
 "nbformat_minor": 5
}
