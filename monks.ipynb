{
 "cells": [
  {
   "cell_type": "code",
   "execution_count": 65,
   "id": "8f83a120",
   "metadata": {},
   "outputs": [],
   "source": [
    "import pandas as pd\n",
    "import numpy as np\n",
    "from matplotlib import pyplot as plt\n",
    "import seaborn as sns"
   ]
  },
  {
   "cell_type": "code",
   "execution_count": 66,
   "id": "229f1321",
   "metadata": {},
   "outputs": [
    {
     "data": {
      "text/html": [
       "<div>\n",
       "<style scoped>\n",
       "    .dataframe tbody tr th:only-of-type {\n",
       "        vertical-align: middle;\n",
       "    }\n",
       "\n",
       "    .dataframe tbody tr th {\n",
       "        vertical-align: top;\n",
       "    }\n",
       "\n",
       "    .dataframe thead th {\n",
       "        text-align: right;\n",
       "    }\n",
       "</style>\n",
       "<table border=\"1\" class=\"dataframe\">\n",
       "  <thead>\n",
       "    <tr style=\"text-align: right;\">\n",
       "      <th></th>\n",
       "      <th>fullVisitorID</th>\n",
       "      <th>visitNumber</th>\n",
       "      <th>date</th>\n",
       "      <th>bounces</th>\n",
       "      <th>hits</th>\n",
       "      <th>pageviews</th>\n",
       "      <th>timeOnSite</th>\n",
       "      <th>transactionRevenue</th>\n",
       "      <th>transactions</th>\n",
       "      <th>source</th>\n",
       "      <th>channelGrouping</th>\n",
       "      <th>browser</th>\n",
       "      <th>deviceCategory</th>\n",
       "      <th>country</th>\n",
       "      <th>city</th>\n",
       "    </tr>\n",
       "  </thead>\n",
       "  <tbody>\n",
       "    <tr>\n",
       "      <th>0</th>\n",
       "      <td>8533875475515924645</td>\n",
       "      <td>1</td>\n",
       "      <td>20170205</td>\n",
       "      <td>1.0</td>\n",
       "      <td>1</td>\n",
       "      <td>1.0</td>\n",
       "      <td>NaN</td>\n",
       "      <td>NaN</td>\n",
       "      <td>NaN</td>\n",
       "      <td>(direct)</td>\n",
       "      <td>Organic Search</td>\n",
       "      <td>Chrome</td>\n",
       "      <td>desktop</td>\n",
       "      <td>Australia</td>\n",
       "      <td>Sydney</td>\n",
       "    </tr>\n",
       "    <tr>\n",
       "      <th>1</th>\n",
       "      <td>4874599869430831185</td>\n",
       "      <td>2</td>\n",
       "      <td>20170205</td>\n",
       "      <td>1.0</td>\n",
       "      <td>1</td>\n",
       "      <td>1.0</td>\n",
       "      <td>NaN</td>\n",
       "      <td>NaN</td>\n",
       "      <td>NaN</td>\n",
       "      <td>(direct)</td>\n",
       "      <td>Organic Search</td>\n",
       "      <td>Chrome</td>\n",
       "      <td>mobile</td>\n",
       "      <td>Turkey</td>\n",
       "      <td>Istanbul</td>\n",
       "    </tr>\n",
       "    <tr>\n",
       "      <th>2</th>\n",
       "      <td>0361954421372951638</td>\n",
       "      <td>1</td>\n",
       "      <td>20170205</td>\n",
       "      <td>1.0</td>\n",
       "      <td>1</td>\n",
       "      <td>1.0</td>\n",
       "      <td>NaN</td>\n",
       "      <td>NaN</td>\n",
       "      <td>NaN</td>\n",
       "      <td>(direct)</td>\n",
       "      <td>Organic Search</td>\n",
       "      <td>Chrome</td>\n",
       "      <td>desktop</td>\n",
       "      <td>Russia</td>\n",
       "      <td>Moscow</td>\n",
       "    </tr>\n",
       "    <tr>\n",
       "      <th>3</th>\n",
       "      <td>8751850432978942600</td>\n",
       "      <td>2</td>\n",
       "      <td>20170205</td>\n",
       "      <td>1.0</td>\n",
       "      <td>1</td>\n",
       "      <td>1.0</td>\n",
       "      <td>NaN</td>\n",
       "      <td>NaN</td>\n",
       "      <td>NaN</td>\n",
       "      <td>bing</td>\n",
       "      <td>Organic Search</td>\n",
       "      <td>Edge</td>\n",
       "      <td>desktop</td>\n",
       "      <td>United States</td>\n",
       "      <td>not available in demo dataset</td>\n",
       "    </tr>\n",
       "    <tr>\n",
       "      <th>4</th>\n",
       "      <td>2451058030378352110</td>\n",
       "      <td>1</td>\n",
       "      <td>20170205</td>\n",
       "      <td>1.0</td>\n",
       "      <td>1</td>\n",
       "      <td>1.0</td>\n",
       "      <td>NaN</td>\n",
       "      <td>NaN</td>\n",
       "      <td>NaN</td>\n",
       "      <td>(direct)</td>\n",
       "      <td>Organic Search</td>\n",
       "      <td>Chrome</td>\n",
       "      <td>desktop</td>\n",
       "      <td>Indonesia</td>\n",
       "      <td>not available in demo dataset</td>\n",
       "    </tr>\n",
       "  </tbody>\n",
       "</table>\n",
       "</div>"
      ],
      "text/plain": [
       "         fullVisitorID  visitNumber      date  bounces  hits  pageviews  \\\n",
       "0  8533875475515924645            1  20170205      1.0     1        1.0   \n",
       "1  4874599869430831185            2  20170205      1.0     1        1.0   \n",
       "2  0361954421372951638            1  20170205      1.0     1        1.0   \n",
       "3  8751850432978942600            2  20170205      1.0     1        1.0   \n",
       "4  2451058030378352110            1  20170205      1.0     1        1.0   \n",
       "\n",
       "   timeOnSite  transactionRevenue  transactions    source channelGrouping  \\\n",
       "0         NaN                 NaN           NaN  (direct)  Organic Search   \n",
       "1         NaN                 NaN           NaN  (direct)  Organic Search   \n",
       "2         NaN                 NaN           NaN  (direct)  Organic Search   \n",
       "3         NaN                 NaN           NaN      bing  Organic Search   \n",
       "4         NaN                 NaN           NaN  (direct)  Organic Search   \n",
       "\n",
       "  browser deviceCategory        country                           city  \n",
       "0  Chrome        desktop      Australia                         Sydney  \n",
       "1  Chrome         mobile         Turkey                       Istanbul  \n",
       "2  Chrome        desktop         Russia                         Moscow  \n",
       "3    Edge        desktop  United States  not available in demo dataset  \n",
       "4  Chrome        desktop      Indonesia  not available in demo dataset  "
      ]
     },
     "execution_count": 66,
     "metadata": {},
     "output_type": "execute_result"
    }
   ],
   "source": [
    "path = r\"C:\\Users\\HP\\Downloads\\data.csv\"\n",
    "df = pd.read_csv(path, dtype={0:'str'})\n",
    "df.head()"
   ]
  },
  {
   "cell_type": "code",
   "execution_count": 67,
   "id": "c4482e3e",
   "metadata": {},
   "outputs": [
    {
     "name": "stdout",
     "output_type": "stream",
     "text": [
      "<class 'pandas.core.frame.DataFrame'>\n",
      "RangeIndex: 392892 entries, 0 to 392891\n",
      "Data columns (total 15 columns):\n",
      " #   Column              Non-Null Count   Dtype  \n",
      "---  ------              --------------   -----  \n",
      " 0   fullVisitorID       392892 non-null  object \n",
      " 1   visitNumber         392892 non-null  int64  \n",
      " 2   date                392892 non-null  int64  \n",
      " 3   bounces             195964 non-null  float64\n",
      " 4   hits                392892 non-null  int64  \n",
      " 5   pageviews           392856 non-null  float64\n",
      " 6   timeOnSite          196399 non-null  float64\n",
      " 7   transactionRevenue  5277 non-null    float64\n",
      " 8   transactions        5277 non-null    float64\n",
      " 9   source              392892 non-null  object \n",
      " 10  channelGrouping     392892 non-null  object \n",
      " 11  browser             392892 non-null  object \n",
      " 12  deviceCategory      392892 non-null  object \n",
      " 13  country             392892 non-null  object \n",
      " 14  city                392892 non-null  object \n",
      "dtypes: float64(5), int64(3), object(7)\n",
      "memory usage: 45.0+ MB\n"
     ]
    }
   ],
   "source": [
    "df.info()"
   ]
  },
  {
   "cell_type": "code",
   "execution_count": 68,
   "id": "3e41fd4a",
   "metadata": {},
   "outputs": [
    {
     "data": {
      "text/html": [
       "<div>\n",
       "<style scoped>\n",
       "    .dataframe tbody tr th:only-of-type {\n",
       "        vertical-align: middle;\n",
       "    }\n",
       "\n",
       "    .dataframe tbody tr th {\n",
       "        vertical-align: top;\n",
       "    }\n",
       "\n",
       "    .dataframe thead th {\n",
       "        text-align: right;\n",
       "    }\n",
       "</style>\n",
       "<table border=\"1\" class=\"dataframe\">\n",
       "  <thead>\n",
       "    <tr style=\"text-align: right;\">\n",
       "      <th></th>\n",
       "      <th>fullVisitorID</th>\n",
       "      <th>visitNumber</th>\n",
       "      <th>date</th>\n",
       "      <th>bounces</th>\n",
       "      <th>hits</th>\n",
       "      <th>pageviews</th>\n",
       "      <th>timeOnSite</th>\n",
       "      <th>transactionRevenue</th>\n",
       "      <th>transactions</th>\n",
       "      <th>source</th>\n",
       "      <th>channelGrouping</th>\n",
       "      <th>browser</th>\n",
       "      <th>deviceCategory</th>\n",
       "      <th>country</th>\n",
       "      <th>city</th>\n",
       "    </tr>\n",
       "  </thead>\n",
       "  <tbody>\n",
       "  </tbody>\n",
       "</table>\n",
       "</div>"
      ],
      "text/plain": [
       "Empty DataFrame\n",
       "Columns: [fullVisitorID, visitNumber, date, bounces, hits, pageviews, timeOnSite, transactionRevenue, transactions, source, channelGrouping, browser, deviceCategory, country, city]\n",
       "Index: []"
      ]
     },
     "execution_count": 68,
     "metadata": {},
     "output_type": "execute_result"
    }
   ],
   "source": [
    "df[df.duplicated()]"
   ]
  },
  {
   "cell_type": "code",
   "execution_count": 69,
   "id": "18c94a36",
   "metadata": {},
   "outputs": [],
   "source": [
    "# Se ajuta forma de fechas.\n",
    "df['date'] = pd.to_datetime(df['date'], format='%Y%m%d').dt.date"
   ]
  },
  {
   "cell_type": "code",
   "execution_count": 70,
   "id": "069616ec",
   "metadata": {},
   "outputs": [
    {
     "name": "stdout",
     "output_type": "stream",
     "text": [
      "Tenemos información desde 2017-01-01 hasta 2017-06-30.\n"
     ]
    }
   ],
   "source": [
    "# Se determina rango de tiempo contemplado.\n",
    "date = df['date']\n",
    "print(f\"Tenemos información desde {date.min()} hasta {date.max()}.\")"
   ]
  },
  {
   "cell_type": "code",
   "execution_count": 71,
   "id": "4bfd86c2",
   "metadata": {},
   "outputs": [
    {
     "data": {
      "text/plain": [
       "fullVisitorID\n",
       "1957458976293878100    135\n",
       "7634897085866546110    116\n",
       "3148617623907142276    112\n",
       "3525537916960843419    111\n",
       "6018775317735347795    102\n",
       "                      ... \n",
       "984901111924029842       1\n",
       "1301304072885324590      1\n",
       "9562006476713181017      1\n",
       "4910507032070150816      1\n",
       "0498654448376969495      1\n",
       "Name: count, Length: 308130, dtype: int64"
      ]
     },
     "execution_count": 71,
     "metadata": {},
     "output_type": "execute_result"
    }
   ],
   "source": [
    "# ¿Cuántas visitas por visitor hay? \n",
    "df['fullVisitorID'].value_counts()"
   ]
  },
  {
   "cell_type": "code",
   "execution_count": 72,
   "id": "6584cbb5",
   "metadata": {},
   "outputs": [],
   "source": [
    "# Se observa que los visitors ya tenían datos antes."
   ]
  },
  {
   "cell_type": "code",
   "execution_count": 73,
   "id": "d729c630",
   "metadata": {},
   "outputs": [
    {
     "data": {
      "text/plain": [
       "np.int64(176)"
      ]
     },
     "execution_count": 73,
     "metadata": {},
     "output_type": "execute_result"
    }
   ],
   "source": [
    "df[df['fullVisitorID']=='1957458976293878100']['visitNumber'].min()"
   ]
  },
  {
   "cell_type": "code",
   "execution_count": 74,
   "id": "02daea3f",
   "metadata": {},
   "outputs": [
    {
     "data": {
      "text/plain": [
       "np.int64(315)"
      ]
     },
     "execution_count": 74,
     "metadata": {},
     "output_type": "execute_result"
    }
   ],
   "source": [
    "df[df['fullVisitorID']=='1957458976293878100']['visitNumber'].max()"
   ]
  },
  {
   "cell_type": "code",
   "execution_count": 75,
   "id": "35edcbee",
   "metadata": {},
   "outputs": [
    {
     "data": {
      "text/plain": [
       "139"
      ]
     },
     "execution_count": 75,
     "metadata": {},
     "output_type": "execute_result"
    }
   ],
   "source": [
    "315 - 176"
   ]
  },
  {
   "cell_type": "code",
   "execution_count": 76,
   "id": "02c3b57a",
   "metadata": {},
   "outputs": [],
   "source": [
    "# Deberían haber 139 pero hay 135 registros para ese visitor. ¿A qué se debe la pérdida de registros de visitas?"
   ]
  },
  {
   "cell_type": "code",
   "execution_count": 77,
   "id": "29ff8c72",
   "metadata": {},
   "outputs": [
    {
     "name": "stdout",
     "output_type": "stream",
     "text": [
      "251\n",
      "311\n",
      "315\n"
     ]
    }
   ],
   "source": [
    "ver = sorted(df[df['fullVisitorID']=='1957458976293878100']['visitNumber'].to_list())\n",
    "\n",
    "for i in range(len(ver)-1):\n",
    "    if ver[i] + 1 != ver[i+1]:\n",
    "        print(ver[i+1])"
   ]
  },
  {
   "cell_type": "code",
   "execution_count": 78,
   "id": "58ffb0f6",
   "metadata": {},
   "outputs": [
    {
     "data": {
      "text/plain": [
       "fullVisitorID        visitNumber\n",
       "1957458976293878100  176            1\n",
       "                     177            1\n",
       "                     178            1\n",
       "                     179            1\n",
       "                     180            1\n",
       "                                   ..\n",
       "                     308            1\n",
       "                     309            1\n",
       "                     311            1\n",
       "                     312            1\n",
       "                     315            1\n",
       "Length: 135, dtype: int64"
      ]
     },
     "execution_count": 78,
     "metadata": {},
     "output_type": "execute_result"
    }
   ],
   "source": [
    "df[df['fullVisitorID']=='1957458976293878100'].groupby(['fullVisitorID', 'visitNumber']).size().sort_values(ascending=False)"
   ]
  },
  {
   "cell_type": "code",
   "execution_count": 79,
   "id": "1c429c7c",
   "metadata": {},
   "outputs": [
    {
     "data": {
      "text/plain": [
       "298788"
      ]
     },
     "execution_count": 79,
     "metadata": {},
     "output_type": "execute_result"
    }
   ],
   "source": [
    "len(df[df['visitNumber']==1])"
   ]
  },
  {
   "cell_type": "code",
   "execution_count": 80,
   "id": "a07a5e49",
   "metadata": {},
   "outputs": [
    {
     "name": "stdout",
     "output_type": "stream",
     "text": [
      "<class 'pandas.core.frame.DataFrame'>\n",
      "RangeIndex: 392892 entries, 0 to 392891\n",
      "Data columns (total 15 columns):\n",
      " #   Column              Non-Null Count   Dtype  \n",
      "---  ------              --------------   -----  \n",
      " 0   fullVisitorID       392892 non-null  object \n",
      " 1   visitNumber         392892 non-null  int64  \n",
      " 2   date                392892 non-null  object \n",
      " 3   bounces             392892 non-null  int64  \n",
      " 4   hits                392892 non-null  int64  \n",
      " 5   pageviews           392856 non-null  float64\n",
      " 6   timeOnSite          196399 non-null  float64\n",
      " 7   transactionRevenue  5277 non-null    float64\n",
      " 8   transactions        5277 non-null    float64\n",
      " 9   source              392892 non-null  object \n",
      " 10  channelGrouping     392892 non-null  object \n",
      " 11  browser             392892 non-null  object \n",
      " 12  deviceCategory      392892 non-null  object \n",
      " 13  country             392892 non-null  object \n",
      " 14  city                392892 non-null  object \n",
      "dtypes: float64(4), int64(3), object(8)\n",
      "memory usage: 45.0+ MB\n"
     ]
    }
   ],
   "source": [
    "df['bounces'] = df['bounces'].fillna(0).astype(int)\n",
    "\n",
    "\n",
    "#df.fillna({'bounces': 0}, inplace=True)\n",
    "#df = df.astype({'bounces': int})\n",
    "\n",
    "df.info()"
   ]
  },
  {
   "cell_type": "code",
   "execution_count": 81,
   "id": "d5b55ba7",
   "metadata": {},
   "outputs": [
    {
     "data": {
      "text/plain": [
       "array([1, 0])"
      ]
     },
     "execution_count": 81,
     "metadata": {},
     "output_type": "execute_result"
    }
   ],
   "source": [
    "df['bounces'].unique()"
   ]
  },
  {
   "cell_type": "code",
   "execution_count": null,
   "id": "a1706880",
   "metadata": {},
   "outputs": [],
   "source": []
  },
  {
   "cell_type": "code",
   "execution_count": null,
   "id": "b50fc875",
   "metadata": {},
   "outputs": [],
   "source": []
  },
  {
   "cell_type": "code",
   "execution_count": null,
   "id": "e2b5b96c",
   "metadata": {},
   "outputs": [],
   "source": []
  }
 ],
 "metadata": {
  "kernelspec": {
   "display_name": "Python 3",
   "language": "python",
   "name": "python3"
  },
  "language_info": {
   "codemirror_mode": {
    "name": "ipython",
    "version": 3
   },
   "file_extension": ".py",
   "mimetype": "text/x-python",
   "name": "python",
   "nbconvert_exporter": "python",
   "pygments_lexer": "ipython3",
   "version": "3.12.2"
  }
 },
 "nbformat": 4,
 "nbformat_minor": 5
}
