{
 "cells": [
  {
   "cell_type": "code",
   "execution_count": 13,
   "id": "9c16ce1b",
   "metadata": {},
   "outputs": [],
   "source": [
    "# Importación de liberarías utilizadas a lo largo del Notebook.\n",
    "# ETL y EDA. \n",
    "import pandas as pd\n",
    "import numpy as np\n",
    "from matplotlib import pyplot as plt\n",
    "import matplotlib.ticker as ticker\n",
    "\n",
    "\n",
    "# Modelo. Selección y ajustes.\n",
    "from sklearn.pipeline import Pipeline\n",
    "from sklearn.linear_model import LogisticRegression\n",
    "from sklearn.ensemble import RandomForestClassifier\n",
    "from sklearn.compose import ColumnTransformer\n",
    "from sklearn.preprocessing import StandardScaler\n",
    "from sklearn.metrics import confusion_matrix, precision_score, recall_score\n",
    "from sklearn.model_selection import train_test_split\n",
    "from sklearn.model_selection import cross_validate\n",
    "from sklearn.model_selection import GridSearchCV"
   ]
  },
  {
   "cell_type": "markdown",
   "id": "6f363778",
   "metadata": {},
   "source": [
    "#### **1. EDA.**"
   ]
  },
  {
   "cell_type": "code",
   "execution_count": 14,
   "id": "057b076c",
   "metadata": {},
   "outputs": [
    {
     "data": {
      "text/html": [
       "<div>\n",
       "<style scoped>\n",
       "    .dataframe tbody tr th:only-of-type {\n",
       "        vertical-align: middle;\n",
       "    }\n",
       "\n",
       "    .dataframe tbody tr th {\n",
       "        vertical-align: top;\n",
       "    }\n",
       "\n",
       "    .dataframe thead th {\n",
       "        text-align: right;\n",
       "    }\n",
       "</style>\n",
       "<table border=\"1\" class=\"dataframe\">\n",
       "  <thead>\n",
       "    <tr style=\"text-align: right;\">\n",
       "      <th></th>\n",
       "      <th>fullVisitorID</th>\n",
       "      <th>visitNumber</th>\n",
       "      <th>date</th>\n",
       "      <th>bounces</th>\n",
       "      <th>hits</th>\n",
       "      <th>pageviews</th>\n",
       "      <th>timeOnSite</th>\n",
       "      <th>transactionRevenue</th>\n",
       "      <th>transactions</th>\n",
       "      <th>source</th>\n",
       "      <th>channelGrouping</th>\n",
       "      <th>browser</th>\n",
       "      <th>deviceCategory</th>\n",
       "      <th>country</th>\n",
       "      <th>city</th>\n",
       "    </tr>\n",
       "  </thead>\n",
       "  <tbody>\n",
       "    <tr>\n",
       "      <th>0</th>\n",
       "      <td>8533875475515924645</td>\n",
       "      <td>1</td>\n",
       "      <td>20170205</td>\n",
       "      <td>1.0</td>\n",
       "      <td>1</td>\n",
       "      <td>1.0</td>\n",
       "      <td>NaN</td>\n",
       "      <td>NaN</td>\n",
       "      <td>NaN</td>\n",
       "      <td>(direct)</td>\n",
       "      <td>Organic Search</td>\n",
       "      <td>Chrome</td>\n",
       "      <td>desktop</td>\n",
       "      <td>Australia</td>\n",
       "      <td>Sydney</td>\n",
       "    </tr>\n",
       "  </tbody>\n",
       "</table>\n",
       "</div>"
      ],
      "text/plain": [
       "         fullVisitorID  visitNumber      date  bounces  hits  pageviews  \\\n",
       "0  8533875475515924645            1  20170205      1.0     1        1.0   \n",
       "\n",
       "   timeOnSite  transactionRevenue  transactions    source channelGrouping  \\\n",
       "0         NaN                 NaN           NaN  (direct)  Organic Search   \n",
       "\n",
       "  browser deviceCategory    country    city  \n",
       "0  Chrome        desktop  Australia  Sydney  "
      ]
     },
     "execution_count": 14,
     "metadata": {},
     "output_type": "execute_result"
    }
   ],
   "source": [
    "# Lectura del dataset.\n",
    "path = r\"C:\\Users\\HP\\Downloads\\data.csv\"\n",
    "df = pd.read_csv(path, dtype={0:'str'})\n",
    "\n",
    "df.head(1)"
   ]
  },
  {
   "cell_type": "code",
   "execution_count": 15,
   "id": "bd331d8c",
   "metadata": {},
   "outputs": [
    {
     "name": "stdout",
     "output_type": "stream",
     "text": [
      "<class 'pandas.core.frame.DataFrame'>\n",
      "RangeIndex: 392892 entries, 0 to 392891\n",
      "Data columns (total 15 columns):\n",
      " #   Column              Non-Null Count   Dtype  \n",
      "---  ------              --------------   -----  \n",
      " 0   fullVisitorID       392892 non-null  object \n",
      " 1   visitNumber         392892 non-null  int64  \n",
      " 2   date                392892 non-null  int64  \n",
      " 3   bounces             195964 non-null  float64\n",
      " 4   hits                392892 non-null  int64  \n",
      " 5   pageviews           392856 non-null  float64\n",
      " 6   timeOnSite          196399 non-null  float64\n",
      " 7   transactionRevenue  5277 non-null    float64\n",
      " 8   transactions        5277 non-null    float64\n",
      " 9   source              392892 non-null  object \n",
      " 10  channelGrouping     392892 non-null  object \n",
      " 11  browser             392892 non-null  object \n",
      " 12  deviceCategory      392892 non-null  object \n",
      " 13  country             392892 non-null  object \n",
      " 14  city                392892 non-null  object \n",
      "dtypes: float64(5), int64(3), object(7)\n",
      "memory usage: 45.0+ MB\n"
     ]
    }
   ],
   "source": [
    "# Inspección general del dataset: cantidad de registros, columnas, nulos y tipo de datos.\n",
    "df.info()"
   ]
  },
  {
   "cell_type": "code",
   "execution_count": 16,
   "id": "1e7486c3",
   "metadata": {},
   "outputs": [
    {
     "data": {
      "text/html": [
       "<div>\n",
       "<style scoped>\n",
       "    .dataframe tbody tr th:only-of-type {\n",
       "        vertical-align: middle;\n",
       "    }\n",
       "\n",
       "    .dataframe tbody tr th {\n",
       "        vertical-align: top;\n",
       "    }\n",
       "\n",
       "    .dataframe thead th {\n",
       "        text-align: right;\n",
       "    }\n",
       "</style>\n",
       "<table border=\"1\" class=\"dataframe\">\n",
       "  <thead>\n",
       "    <tr style=\"text-align: right;\">\n",
       "      <th></th>\n",
       "      <th>fullVisitorID</th>\n",
       "      <th>visitNumber</th>\n",
       "      <th>date</th>\n",
       "      <th>bounces</th>\n",
       "      <th>hits</th>\n",
       "      <th>pageviews</th>\n",
       "      <th>timeOnSite</th>\n",
       "      <th>transactionRevenue</th>\n",
       "      <th>transactions</th>\n",
       "      <th>source</th>\n",
       "      <th>channelGrouping</th>\n",
       "      <th>browser</th>\n",
       "      <th>deviceCategory</th>\n",
       "      <th>country</th>\n",
       "      <th>city</th>\n",
       "    </tr>\n",
       "  </thead>\n",
       "  <tbody>\n",
       "  </tbody>\n",
       "</table>\n",
       "</div>"
      ],
      "text/plain": [
       "Empty DataFrame\n",
       "Columns: [fullVisitorID, visitNumber, date, bounces, hits, pageviews, timeOnSite, transactionRevenue, transactions, source, channelGrouping, browser, deviceCategory, country, city]\n",
       "Index: []"
      ]
     },
     "execution_count": 16,
     "metadata": {},
     "output_type": "execute_result"
    }
   ],
   "source": [
    "# Se analizan posibles valores duplicados.\n",
    "df[df.duplicated()]"
   ]
  },
  {
   "cell_type": "code",
   "execution_count": 17,
   "id": "8480ddcb",
   "metadata": {},
   "outputs": [],
   "source": [
    "# Se adecua formato fecha y se generan variable temporal mensual.\n",
    "df['date'] = pd.to_datetime(df['date'], format='%Y%m%d')\n",
    "df['month'] = df['date'].dt.month\n",
    "\n",
    "# Se genera variable converted, que indica que en un determinado registro llevó a cabo una transacción.\n",
    "df['converted'] = np.where(df['transactions'] > 0, 'converted', 'not_converted')\n",
    "\n",
    "# Se inputa valor cero a registros que presentan nulos.\n",
    "df['bounces'] = df['bounces'].fillna(0).astype(int)\n",
    "df['pageviews'] = df['pageviews'].fillna(0).astype(int)\n",
    "df['transactionRevenue'] = df['transactionRevenue'].fillna(0).astype(float)\n",
    "df['transactions'] = df['transactions'].fillna(0).astype(float)\n",
    "df['timeOnSite'] = df['timeOnSite'].fillna(0).astype(float)\n",
    "\n",
    "# Se genera variable timeOnSite en minutos.\n",
    "df['timeOnSite_m'] = (df['timeOnSite'] / 60).astype(float)"
   ]
  },
  {
   "cell_type": "markdown",
   "id": "91d119f2",
   "metadata": {},
   "source": [
    "<div class=\"admonition tip alert alert-info\" style=\"padding: 15px; border-radius: 8px;\">\n",
    "  <p class=\"first admonition-title\" style=\"font-weight: bold; font-size: 1.1em; margin-bottom: 10px;\">\n",
    "    Comentarios iniciales\n",
    "  </p>\n",
    "  <p class=\"last\" style=\"margin: 0;\">\n",
    "    Considerando los tres objetivos propuestos, a saber:\n",
    "  </p>\n",
    "  <ul style=\"margin-top: 5px; margin-bottom: 10px;\">\n",
    "    <li><strong>a)</strong> Predecir la cantidad de transacciones del mes siguiente;</li>\n",
    "    <li><strong>b)</strong> Estimar la probabilidad de que un usuario compre (haga una transacción);</li>\n",
    "    <li><strong>c)</strong> Agrupar a los usuarios de acuerdo a sus características.</li>\n",
    "  </ul>\n",
    "  <p style=\"margin: 0;\">\n",
    "    Se selecciona para su estudio el punto <strong>b</strong>, dado que:\n",
    "  </p>\n",
    "  <ul style=\"margin-top: 5px; margin-bottom: 10px;\">\n",
    "    <li>Para el punto <strong>a</strong>, se considera escaso el período temporal de seis meses para tal fin (aunque pueden realizarse análisis como proyecciones exploratorias de tendencias o modelos simples de forecasting).</li>\n",
    "    <li>El punto <strong>c</strong> requiere un conocimiento más profundo del negocio (aunque variables categóricas como país o tipo de dispositivo pueden ser utilizadas para realizar una segmentación básica).</li>\n",
    "  </ul>\n",
    "  <p style=\"margin: 0;\">\n",
    "    No obstante ello, el punto <strong>b</strong> se considera muy interesante.\n",
    "  </p>\n",
    "</div>"
   ]
  },
  {
   "cell_type": "code",
   "execution_count": 18,
   "id": "b8594321",
   "metadata": {},
   "outputs": [
    {
     "data": {
      "image/png": "[encoded data removed]",
      "text/plain": [
       "<Figure size 640x480 with 1 Axes>"
      ]
     },
     "metadata": {},
     "output_type": "display_data"
    }
   ],
   "source": [
    "# Como primer paso, se analiza la proporción de registros con transacciones en el dataset.\n",
    "c = df['converted'].value_counts()\n",
    "plt.pie(c, labels=[f\"{i}\\n{v:,} ({v/c.sum()*100:.1f}%)\" for i, v in c.items()],\n",
    "        colors=['#aec7e8', '#1f77b4'], startangle=140, wedgeprops={'edgecolor': 'white'})\n",
    "plt.title('Distribución de sesiones por conversión')\n",
    "plt.axis('equal')\n",
    "plt.show()"
   ]
  },
  {
   "cell_type": "code",
   "execution_count": 19,
   "id": "74756d6e",
   "metadata": {},
   "outputs": [
    {
     "data": {
      "text/html": [
       "<div>\n",
       "<style scoped>\n",
       "    .dataframe tbody tr th:only-of-type {\n",
       "        vertical-align: middle;\n",
       "    }\n",
       "\n",
       "    .dataframe tbody tr th {\n",
       "        vertical-align: top;\n",
       "    }\n",
       "\n",
       "    .dataframe thead th {\n",
       "        text-align: right;\n",
       "    }\n",
       "</style>\n",
       "<table border=\"1\" class=\"dataframe\">\n",
       "  <thead>\n",
       "    <tr style=\"text-align: right;\">\n",
       "      <th></th>\n",
       "      <th>converted</th>\n",
       "      <th>visitNumber</th>\n",
       "      <th>bounces</th>\n",
       "      <th>hits</th>\n",
       "      <th>pageviews</th>\n",
       "      <th>timeOnSite_m</th>\n",
       "      <th>channelGrouping</th>\n",
       "      <th>browser</th>\n",
       "      <th>deviceCategory</th>\n",
       "      <th>country</th>\n",
       "    </tr>\n",
       "  </thead>\n",
       "  <tbody>\n",
       "    <tr>\n",
       "      <th>0</th>\n",
       "      <td>converted</td>\n",
       "      <td>2.0</td>\n",
       "      <td>0.0</td>\n",
       "      <td>26.0</td>\n",
       "      <td>21.0</td>\n",
       "      <td>12.45</td>\n",
       "      <td>[Referral, Organic Search, Direct]</td>\n",
       "      <td>[Chrome, Safari, Firefox]</td>\n",
       "      <td>[desktop, mobile, tablet]</td>\n",
       "      <td>[United States, Canada, Taiwan]</td>\n",
       "    </tr>\n",
       "    <tr>\n",
       "      <th>1</th>\n",
       "      <td>not_converted</td>\n",
       "      <td>1.0</td>\n",
       "      <td>1.0</td>\n",
       "      <td>1.0</td>\n",
       "      <td>1.0</td>\n",
       "      <td>0.00</td>\n",
       "      <td>[Organic Search, Direct, Social]</td>\n",
       "      <td>[Chrome, Safari, Firefox]</td>\n",
       "      <td>[desktop, mobile, tablet]</td>\n",
       "      <td>[United States, India, United Kingdom]</td>\n",
       "    </tr>\n",
       "  </tbody>\n",
       "</table>\n",
       "</div>"
      ],
      "text/plain": [
       "       converted  visitNumber  bounces  hits  pageviews  timeOnSite_m  \\\n",
       "0      converted          2.0      0.0  26.0       21.0         12.45   \n",
       "1  not_converted          1.0      1.0   1.0        1.0          0.00   \n",
       "\n",
       "                      channelGrouping                    browser  \\\n",
       "0  [Referral, Organic Search, Direct]  [Chrome, Safari, Firefox]   \n",
       "1    [Organic Search, Direct, Social]  [Chrome, Safari, Firefox]   \n",
       "\n",
       "              deviceCategory                                 country  \n",
       "0  [desktop, mobile, tablet]         [United States, Canada, Taiwan]  \n",
       "1  [desktop, mobile, tablet]  [United States, India, United Kingdom]  "
      ]
     },
     "execution_count": 19,
     "metadata": {},
     "output_type": "execute_result"
    }
   ],
   "source": [
    "# Como segundo paso, se analiza si existen relaciones entre la variable converted y resto de variables de forma general.\n",
    "\n",
    "# Función para obtener las tres primeras frecuencias en variables categóricas.\n",
    "top3 = lambda s: s.value_counts().head(3).index.tolist()\n",
    "\n",
    "df.groupby('converted').agg({col: 'median' for col in ['visitNumber', 'bounces', 'hits', 'pageviews', 'timeOnSite_m']} | {col: top3 for col in ['channelGrouping', 'browser', 'deviceCategory', 'country']}).reset_index()\n"
   ]
  },
  {
   "cell_type": "code",
   "execution_count": 20,
   "id": "7fdef72b",
   "metadata": {},
   "outputs": [],
   "source": [
    "# Como tercer paso del proceso EDA, se generan nuevos features.\n",
    "\n",
    "# Ratio de interacciones por minuto en la sesión.\n",
    "df['hits_per_minute'] = df['hits'] / df['timeOnSite_m']\n",
    "\n",
    "# Tiempo promedio en segundos por página vista.\n",
    "df['seconds_per_pageview'] = df['timeOnSite'] / df['pageviews']\n",
    "\n",
    "# Indicador binario: 1 si la sesión fue un sábado o domingo, 0 en caso contrario.\n",
    "df['is_weekend'] = df['date'].dt.dayofweek.isin([5, 6]).astype(int)\n",
    "\n",
    "# Indicador binario: 1 si el usuario realizó al menos una compra en algún momento.\n",
    "user_converted = df.groupby('fullVisitorID')['transactions'].sum() > 0\n",
    "df['has_ever_converted'] = df['fullVisitorID'].map(user_converted).astype(int)\n",
    "\n",
    "# Días entre la primera y la última visita del usuario.\n",
    "visit_range = df.groupby('fullVisitorID')['date'].agg(['min', 'max'])\n",
    "visit_range['days_between_first_last_visit'] = (visit_range['max'] - visit_range['min']).dt.days\n",
    "df['days_between_first_last_visit'] = df['fullVisitorID'].map(visit_range['days_between_first_last_visit'])\n",
    "\n",
    "# Indicador binario: 1 si la sesión es la primera visita del usuario, 0 en caso contrario.\n",
    "df['is_first_visit'] = (df['visitNumber'] == 1).astype(int)\n",
    "\n",
    "# Reemplazo de valores infinitos o nulos por 0 para evitar errores en el modelado.\n",
    "df.replace([np.inf, -np.inf, np.nan], 0, inplace=True)"
   ]
  },
  {
   "cell_type": "markdown",
   "id": "32f7a972",
   "metadata": {},
   "source": [
    "<div class=\"admonition tip alert alert-info\" style=\"padding: 15px; border-radius: 8px;\">\n",
    "  <p class=\"first admonition-title\" style=\"font-weight: bold; font-size: 1.1em; margin-bottom: 10px;\">\n",
    "    Consideraciones sobre EDA\n",
    "  </p>\n",
    "  <p style=\"margin: 0;\">\n",
    "    Para obtener probabilidades de compra por parte de un usuario, es necesario identificar variables (features) con potencial explicativo. A partir del análisis exploratorio realizado, pueden destacarse los siguientes puntos:\n",
    "  </p>\n",
    "  <ul style=\"margin-top: 5px; margin-bottom: 10px;\">\n",
    "    <li>\n",
    "      El dataset presenta un <strong>fuerte desbalance de clases</strong>, como era de esperarse, con gran cantidad de sesiones sin transacciones (98,7%). Este desequilibrio impondrá dos desafíos: por un lado, reduce la cantidad de ejemplos para estimar los factores que explican una sesión con compra; por otro, afecta la forma en que debe evaluarse la performance de cualquier modelo. En este contexto, <strong>métricas como accuracy resultarán poco informativas</strong>, y deben priorizarse otras como <strong>precision</strong> y <strong>recall</strong>. En particular, se opta aquí por utilizar <strong>recall</strong> como métrica principal, ya que permite medir qué proporción de las compras reales son correctamente identificadas por el modelo.\n",
    "    </li>\n",
    "    <li>\n",
    "      Se observan diferencias marcadas entre clases (compra vs. no compra) en variables como <strong>número de visitas</strong>, <strong>cantidad de interacciones (hits)</strong> y <strong>tiempo de sesión</strong>, siendo estos valores significativamente mayores en sesiones con transacción. En contraste, <strong>las variables categóricas como país, navegador o tipo de dispositivo no muestran una discriminación evidente</strong> entre clases y no serán consideradas (aunque serán relevantes para cualquier modelo de segmentación).\n",
    "    </li>\n",
    "    <li>\n",
    "      Por último, se propone la <strong>generación de nuevas variables derivadas</strong> (feature engineering) que refuercen las anteriores, como por ejemplo: promedio de tiempo por página, ratio de hits por minuto, o si corresponde a una primera visita por parte del usuario, lo cual podría aportar mayor poder predictivo al modelo.\n",
    "    </li>\n",
    "    <li>\n",
    "      Como comentario adicional, se consideró la posibilidad de utilizar solo aquellos registros que presenten <strong>bounces</strong> distintos de 1, dado que se entiende que estos son los únicos que potencialmente registren una transacción. Sin embargo, el hecho de que en producción esos registros formen parte de la información a analizar, se prefirió no sesgar el modelo.\n",
    "    </li>\n",
    "  </ul>\n",
    "</div>"
   ]
  },
  {
   "cell_type": "markdown",
   "id": "2ad5ebb9",
   "metadata": {},
   "source": [
    "##### **1.1. MODELO.**"
   ]
  },
  {
   "cell_type": "code",
   "execution_count": 21,
   "id": "de5abc09",
   "metadata": {},
   "outputs": [
    {
     "name": "stdout",
     "output_type": "stream",
     "text": [
      "Estimando modelo: Logistic Regression\n",
      "Matriz de confusión (Logistic Regression):\n",
      " [[95366  1538]\n",
      " [    0  1319]]\n",
      "Precisión: 0.462\n",
      "Recall: 1.0\n",
      "--------------------------------------------------\n",
      "Estimando modelo: Random Forest Classifier\n",
      "Matriz de confusión (Random Forest):\n",
      " [[96607   297]\n",
      " [  464   855]]\n",
      "Precisión: 0.742\n",
      "Recall: 0.648\n"
     ]
    }
   ],
   "source": [
    "# Selección de features e identificación de features y target.\n",
    "features = ['bounces', 'hits_per_minute', 'seconds_per_pageview', 'is_weekend', 'has_ever_converted', 'days_between_first_last_visit', 'is_first_visit']\n",
    "X = df[features]\n",
    "df['converted_n'] = (df['converted'] == 'converted').astype(int)\n",
    "y = df['converted_n']\n",
    "\n",
    "# Preprocesamiento.\n",
    "preprocessor = ColumnTransformer([('num', StandardScaler(), X.columns)])\n",
    "\n",
    "# División en train/test.\n",
    "X_train, X_test, y_train, y_test = train_test_split(X, y, stratify=y, test_size=0.25, random_state=42)\n",
    "\n",
    "# ---------- Logistic Regression ----------\n",
    "print(\"Estimando modelo: Logistic Regression\")\n",
    "\n",
    "pipe_lr = Pipeline([\n",
    "    ('preprocess', preprocessor),\n",
    "    ('clf', LogisticRegression(class_weight='balanced', max_iter=1000))\n",
    "])\n",
    "\n",
    "# Entrenamiento y predicción.\n",
    "pipe_lr.fit(X_train, y_train)\n",
    "y_pred_lr = pipe_lr.predict(X_test)\n",
    "\n",
    "# Performance en test.\n",
    "cm_lr = confusion_matrix(y_test, y_pred_lr)\n",
    "precision_lr = precision_score(y_test, y_pred_lr)\n",
    "recall_lr = recall_score(y_test, y_pred_lr)\n",
    "\n",
    "print(\"Matriz de confusión (Logistic Regression):\\n\", cm_lr)\n",
    "print(\"Precisión:\", round(precision_lr, 3))\n",
    "print(\"Recall:\", round(recall_lr, 3))\n",
    "print(\"-\" * 50)\n",
    "\n",
    "# ---------- Random Forest Classifier ----------\n",
    "print(\"Estimando modelo: Random Forest Classifier\")\n",
    "\n",
    "pipe_rf = Pipeline([\n",
    "    ('preprocess', preprocessor),\n",
    "    ('clf', RandomForestClassifier(class_weight='balanced', random_state=42))\n",
    "])\n",
    "\n",
    "# Entrenamiento y predicción.\n",
    "pipe_rf.fit(X_train, y_train)\n",
    "y_pred_rf = pipe_rf.predict(X_test)\n",
    "\n",
    "# Performance en test.\n",
    "cm_rf = confusion_matrix(y_test, y_pred_rf)\n",
    "precision_rf = precision_score(y_test, y_pred_rf)\n",
    "recall_rf = recall_score(y_test, y_pred_rf)\n",
    "\n",
    "print(\"Matriz de confusión (Random Forest):\\n\", cm_rf)\n",
    "print(\"Precisión:\", round(precision_rf, 3))\n",
    "print(\"Recall:\", round(recall_rf, 3))"
   ]
  },
  {
   "cell_type": "code",
   "execution_count": 22,
   "id": "5af17434",
   "metadata": {},
   "outputs": [
    {
     "name": "stdout",
     "output_type": "stream",
     "text": [
      "Recall en test por fold: [1.         1.         1.         0.99873737 0.99873578]\n",
      "Recall en train por fold: [0.99936849 0.99936829 0.99968414 1.         0.99936849]\n",
      "Recall promedio (test): 0.999\n"
     ]
    }
   ],
   "source": [
    "# Validación cruzada.\n",
    "cv_results = cross_validate(\n",
    "    estimator=pipe_lr,\n",
    "    X=X_train,\n",
    "    y=y_train,\n",
    "    cv=5,\n",
    "    scoring='recall',\n",
    "    return_train_score=True\n",
    ")\n",
    "\n",
    "# Mostrar resultados por fold.\n",
    "print(\"Recall en test por fold:\", cv_results['test_score'])\n",
    "print(\"Recall en train por fold:\", cv_results['train_score'])\n",
    "print(\"Recall promedio (test):\", round(cv_results['test_score'].mean(), 3))"
   ]
  },
  {
   "cell_type": "code",
   "execution_count": 23,
   "id": "c4070d19",
   "metadata": {},
   "outputs": [
    {
     "name": "stdout",
     "output_type": "stream",
     "text": [
      "Mejores hiperparámetros:\n",
      "{'clf__C': 0.001}\n",
      "Matriz de confusión (modelo con hiperparámetros óptimos):\n",
      " [[94486  2418]\n",
      " [    0  1319]]\n",
      "Precisión: 0.353\n",
      "Recall: 1.0\n"
     ]
    }
   ],
   "source": [
    "# Grid de hiperparámetros\n",
    "param_grid = {\n",
    "    'clf__C': [0.001, 0.01, 0.1, 1, 10, 100]\n",
    "}\n",
    "\n",
    "# GridSearch con validación cruzada, optimizando recall\n",
    "grid_search = GridSearchCV(\n",
    "    estimator=pipe_lr,\n",
    "    param_grid=param_grid,\n",
    "    scoring='recall',\n",
    "    cv=5,\n",
    "    n_jobs=-1\n",
    ")\n",
    "\n",
    "# Ajuste sobre el set de entrenamiento\n",
    "grid_search.fit(X_train, y_train)\n",
    "\n",
    "# Mejores hiperparámetros\n",
    "print(\"Mejores hiperparámetros:\")\n",
    "print(grid_search.best_params_)\n",
    "\n",
    "# Evaluación final sobre el test set\n",
    "best_model = grid_search.best_estimator_\n",
    "y_pred = best_model.predict(X_test)\n",
    "\n",
    "cm = confusion_matrix(y_test, y_pred)\n",
    "precision = precision_score(y_test, y_pred)\n",
    "recall = recall_score(y_test, y_pred)\n",
    "\n",
    "print(\"Matriz de confusión (modelo con hiperparámetros óptimos):\\n\", cm)\n",
    "print(\"Precisión:\", round(precision, 3))\n",
    "print(\"Recall:\", round(recall, 3))"
   ]
  },
  {
   "cell_type": "code",
   "execution_count": 24,
   "id": "2ebf8b8d",
   "metadata": {},
   "outputs": [
    {
     "name": "stdout",
     "output_type": "stream",
     "text": [
      "bounces: -1.3105\n",
      "hits_per_minute: -0.7531\n",
      "seconds_per_pageview: 0.0116\n",
      "is_weekend: 0.0209\n",
      "has_ever_converted: 1.7754\n",
      "days_between_first_last_visit: -0.1813\n",
      "is_first_visit: 0.1084\n",
      "Intercepto: -6.2809\n"
     ]
    }
   ],
   "source": [
    "# Coeficientes del mejor modelo para definir ecuación de probabilidad de compra.\n",
    "coefs = best_model.named_steps['clf'].coef_[0]\n",
    "intercept = best_model.named_steps['clf'].intercept_[0]\n",
    "features = best_model.named_steps['preprocess'].transformers_[0][2]\n",
    "\n",
    "# Mostrar coeficientes con sus nombres\n",
    "for f, c in zip(features, coefs):\n",
    "    print(f\"{f}: {c:.4f}\")\n",
    "print(f\"Intercepto: {intercept:.4f}\")"
   ]
  },
  {
   "cell_type": "markdown",
   "id": "9134531c",
   "metadata": {},
   "source": [
    "$$\n",
    "P(\\text{compra}) = \\frac{1}{1 + \\exp\\left(-z\\right)}\n",
    "$$\n",
    "\n",
    "donde:\n",
    "\n",
    "$$\n",
    "z = -6.2809 \n",
    "- 1.3105 \\cdot \\text{bounces}\n",
    "- 0.7531 \\cdot \\text{hits\\_per\\_minute}\n",
    "+ 0.0116 \\cdot \\text{seconds\\_per\\_pageview}\n",
    "+ 0.0209 \\cdot \\text{is\\_weekend}\n",
    "+ 1.7754 \\cdot \\text{has\\_ever\\_converted}\n",
    "- 0.1813 \\cdot \\text{days\\_between\\_first\\_last\\_visit}\n",
    "+ 0.1084 \\cdot \\text{is\\_first\\_visit}\n",
    "$$"
   ]
  },
  {
   "cell_type": "markdown",
   "id": "a4f1d63c",
   "metadata": {},
   "source": [
    "<div class=\"admonition tip alert alert-info\" style=\"padding: 15px; border-radius: 8px;\">\n",
    "  <p class=\"first admonition-title\" style=\"font-weight: bold; font-size: 1.1em; margin-bottom: 10px;\">\n",
    "    Resultados\n",
    "  </p>\n",
    "  <p style=\"margin: 0;\">\n",
    "    Para abordar la tarea de clasificación binaria se utilizaron dos modelos: <strong>RandomForestClassifier</strong> y <strong>LogisticRegression</strong>. El único preprocesamiento aplicado fue un <strong>escalado estándar (StandardScaler)</strong>, ya que modelos lineales como la regresión logística suelen presentar un mejor rendimiento cuando las variables están normalizadas. Esto se debe a que <strong>LogisticRegression utiliza un solver para maximizar una función de verosimilitud</strong>, y su convergencia suele ser más eficiente cuando los features están en escalas comparables. También se experimentó con la incorporación de <strong>SMOTE</strong> para balancear las clases, aunque los resultados obtenidos no mostraron mejoras significativas.\n",
    "  </p>\n",
    "  <p style=\"margin-top: 10px; margin-bottom: 0;\">\n",
    "    En términos de resultados, se destaca una mejor performance de <strong>LogisticRegression</strong> en la métrica de <strong>recall</strong>. Si bien la <strong>precisión</strong> obtenida fue baja, ello refleja el clásico <em>trade-off</em> entre estas dos métricas: al priorizar recall, se identifican más casos positivos reales, pero también aumentan los falsos positivos.\n",
    "  </p>\n",
    "  <p style=\"margin-top: 10px; margin-bottom: 0;\">\n",
    "    Además, se analizaron los efectos de modificar el <strong>threshold de decisión</strong>, que por defecto es 0.5. Se observó que al incrementar este valor, el <strong>recall disminuye</strong> mientras que <strong>la precisión aumenta</strong>.\n",
    "  </p>\n",
    "  <p style=\"margin-top: 10px; margin-bottom: 0;\">\n",
    "    Respecto a la capacidad de generalización, <strong>LogisticRegression mostró un comportamiento consistente entre el conjunto de entrenamiento y prueba</strong>, lo cual fue confirmado mediante validación cruzada (<em>cross-validation</em>). No se evidencian signos de sobreajuste (<em>overfitting</em>).\n",
    "  </p>\n",
    "  <p style=\"margin-top: 10px;\">\n",
    "    Por último, se analizaron los coeficientes estimados del modelo logístico para entender cuáles variables tienen mayor impacto en la predicción de compra. Se destacan tres variables:\n",
    "    <ul style=\"margin-top: 5px;\">\n",
    "      <li><strong>has_ever_converted</strong>: coeficiente positivo elevado, indica que usuarios con historial de compra previa tienen considerablemente mayor probabilidad de volver a comprar.</li>\n",
    "      <li><strong>bounces</strong>: coeficiente negativo fuerte, sugiere que sesiones sin interacción están fuertemente asociadas a no conversión.</li>\n",
    "      <li><strong>hits_per_minute</strong>: coeficiente negativo, lo que podría interpretarse como comportamiento impulsivo o superficial no asociado a compra.</li>\n",
    "    </ul>\n",
    "  </p>\n",
    "</div>"
   ]
  },
  {
   "cell_type": "markdown",
   "id": "1d58c806",
   "metadata": {},
   "source": [
    "#### **2. REPORTE.**"
   ]
  },
  {
   "cell_type": "markdown",
   "id": "f7a035ff",
   "metadata": {},
   "source": [
    "<div class=\"admonition tip alert alert-success\" style=\"padding: 15px; border-radius: 8px;\">\n",
    "  <p class=\"first admonition-title\" style=\"font-weight: bold; font-size: 1.1em; margin-bottom: 10px;\">\n",
    "    Informe de Resultados\n",
    "  </p>\n",
    "  <p style=\"margin: 0;\">\n",
    "    En base a datos provenientes de mediciones efectuadas en el sitio Merchandise Store de Google a lo largo de un período de seis meses, se ha intentado conocer el comportamiento de los usuarios en dicho sitio. Particularmente, se ha avanzado sobre el objetivo de estimar la probabilidad de que un usuario realice una transacción durante su sesión. Para tal fin se ha divido el problema en dos: i) en primer lugar, explorar la fuente de información con la que se cuenta, comprendiendo el contenido y significado de cada variable, al tiempo de intuir posibles relaciones entre las mismas y la variable a predecir; ii) en segundo lugar, iterar en busca de un modelo que se ajuste correctamente al problema a resolver (clasificación binaria). \n",
    "  </p>\n",
    "  <p style=\"margin-top: 10px; margin-bottom: 0;\">\n",
    "    Durante la primer etapa de exploración se detectó un <strong>fuerte desbalance en la variable objetivo</strong>: la gran mayoría de las sesiones no terminan en una transacción. Por este motivo, se optó por priorizar métricas que evalúen la capacidad del modelo de identificar correctamente los casos positivos, como el recall. Para la comprensión del dataset, se analizaron las distribuciones de las <strong>variables numéricas</strong> diferenciando entre sesiones con y sin compra, identificando comportamientos distintivos en variables como la cantidad de hits, el tiempo en el sitio y la cantidad de páginas vistas. Estas fueron incluidas luego en el modelo junto con otras variables generadas a partir de las mismas, como el ratio de hits por minuto o un indicador de si el usuario ya había comprado previamente. No se consideraron variables categóricas (como el país, el navegador o la fuente de tráfico) debido a la alta cardinalidad de algunas de ellas, a la falta de diferencias claras (posible poder predictivo) entre clases del feature, y a que el objetivo era mantener el modelo simple y fácilmente interpretable.\n",
    "  </p>\n",
    "  <p style=\"margin-top: 10px;\">\n",
    "    Para el objetivo de clasificación binaria, se entrenaron dos modelos: un Random Forest y una <strong>Regresión Logística</strong>. La regresión logística fue la que mostró mejor equilibrio entre simplicidad y rendimiento, sin evidencias de sobreajuste (overfitting) durante la validación cruzada. Como se comentaba previamente, la métrica principal fue el recall, dado que se buscaba maximizar la detección de sesiones que terminan en compra, aunque a costa de disminuir la precisión (o a costa de aumentar los falsos positivos). Una ventaja adicional del modelo logístico es que permite interpretar fácilmente el efecto de cada variable a través de sus coeficientes estimados, lo que a su vez permite identificar qué variables incrementan la probabilidad de conversión (coeficientes positivos) y cuáles la reducen (coeficientes negativos). En cuanto a su implementación, el modelo puede aplicarse en producción para asignar a cada sesión una probabilidad de compra y activar campañas personalizadas en tiempo real, por ejemplo. Sin embargo, es necesario aclarar aquí que para que el modelo mantenga su rendimiento, es fundamental monitorear que las distribuciones de las variables de entrada no se desvíen significativamente respecto a las observadas durante el entrenamiento. Por último, a nuestro entender el proyecto puede ampliarse o enriquecerse incluyendo información (nuevo features) sobre las páginas visitadas y los artículos consultados o comprados, lo que permitiría construir modelos más ricos y específicos.\n",
    "  </p>\n",
    "</div>"
   ]
  }
 ],
 "metadata": {
  "kernelspec": {
   "display_name": "Python 3",
   "language": "python",
   "name": "python3"
  },
  "language_info": {
   "codemirror_mode": {
    "name": "ipython",
    "version": 3
   },
   "file_extension": ".py",
   "mimetype": "text/x-python",
   "name": "python",
   "nbconvert_exporter": "python",
   "pygments_lexer": "ipython3",
   "version": "3.12.2"
  }
 },
 "nbformat": 4,
 "nbformat_minor": 5
}
