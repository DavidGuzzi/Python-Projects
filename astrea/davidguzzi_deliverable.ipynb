{
 "cells": [
  {
   "cell_type": "markdown",
   "metadata": {},
   "source": [
    "## **ASTREA - TAKE-HOME EXERCISE FOR DATA SCIENCE**\n",
    "\n",
    "### **DISCRETE CHOICE MODEL INTERPRETATION & BUSINESS RECOMMENDATIONS**\n",
    "\n",
    "#### **BY: DAVID GUZZI**  \n",
    "\n",
    "**MARCH 2025**  \n",
    "\n",
    "---"
   ]
  },
  {
   "cell_type": "markdown",
   "metadata": {},
   "source": [
    "### **TASKS**\n",
    "\n",
    "#### **1. MODEL INTERPRETATION**\n",
    "- Examine the model coefficients and explain what they indicate about consumer preferences.  \n",
    "- Identify any potential concerns or inconsistencies in the output (e.g., extreme coefficients, unrealistic substitution patterns).  \n"
   ]
  },
  {
   "cell_type": "code",
   "execution_count": null,
   "metadata": {},
   "outputs": [],
   "source": [
    "import pandas as pd"
   ]
  },
  {
   "cell_type": "code",
   "execution_count": null,
   "metadata": {},
   "outputs": [],
   "source": []
  },
  {
   "cell_type": "code",
   "execution_count": null,
   "metadata": {},
   "outputs": [],
   "source": []
  },
  {
   "cell_type": "markdown",
   "metadata": {},
   "source": [
    "#### **2. BUSINESS IMPLICATIONS**\n",
    "- Suppose our client is considering discontinuing Product X (choose any item). Based on the model results, where do you expect its sales volume to shift?  \n",
    "- What additional analyses or model enhancements would you recommend to improve sourcing predictions? "
   ]
  },
  {
   "cell_type": "code",
   "execution_count": null,
   "metadata": {},
   "outputs": [],
   "source": []
  },
  {
   "cell_type": "code",
   "execution_count": null,
   "metadata": {},
   "outputs": [],
   "source": []
  },
  {
   "cell_type": "code",
   "execution_count": null,
   "metadata": {},
   "outputs": [],
   "source": []
  },
  {
   "cell_type": "markdown",
   "metadata": {},
   "source": [
    "#### **3. TECHNICAL RECOMMENDATIONS**\n",
    "- What limitations does a standard MNL model have in answering sourcing questions?  \n",
    "- Suggest a potential improvement.  "
   ]
  },
  {
   "cell_type": "code",
   "execution_count": null,
   "metadata": {},
   "outputs": [],
   "source": []
  },
  {
   "cell_type": "code",
   "execution_count": null,
   "metadata": {},
   "outputs": [],
   "source": []
  },
  {
   "cell_type": "code",
   "execution_count": null,
   "metadata": {},
   "outputs": [],
   "source": []
  }
 ],
 "metadata": {
  "kernelspec": {
   "display_name": "Python 3",
   "language": "python",
   "name": "python3"
  },
  "language_info": {
   "name": "python",
   "version": "3.12.2"
  }
 },
 "nbformat": 4,
 "nbformat_minor": 2
}
